{
 "cells": [
  {
   "cell_type": "code",
   "execution_count": 12,
   "metadata": {},
   "outputs": [],
   "source": [
    "import os\n",
    "import random\n",
    "import json\n",
    "import albumentations as A\n",
    "import cv2\n",
    "import matplotlib.pyplot as plt\n",
    "import numpy as np\n",
    "from tqdm import tqdm\n",
    "from PIL import Image, ImageColor\n",
    "from utils.dataset import load_mask, load_bboxes, load_classIdxMap, load_stafflines\n",
    "from utils.metropolis_hastings import metropolis_hastings, binomial_distribution, propose_state, probability_matrix\n",
    "\n",
    "DATASET_PATH = os.path.join(\"..\", \"..\", \"datasets\", \"generated\")\n",
    "PNG_PATH = os.path.join(DATASET_PATH, \"png\")\n",
    "BBOX_PATH = os.path.join(DATASET_PATH, \"bbox\")\n",
    "\n",
    "OUT_PATH = os.path.join(DATASET_PATH, \"unet\")\n",
    "OUT_TRAIN_PATH_X = os.path.join(OUT_PATH, \"train\", \"x\")\n",
    "OUT_TRAIN_PATH_Y = os.path.join(OUT_PATH, \"train\", \"y\")\n",
    "OUT_TEST_PATH_X = os.path.join(OUT_PATH, \"test\", \"x\")\n",
    "OUT_TEST_PATH_Y = os.path.join(OUT_PATH, \"test\", \"y\")\n",
    "\n",
    "with open(os.path.join(DATASET_PATH, \"classlist.json\")) as file:\n",
    "    classlist = json.load(file)\n",
    "    colormap = {c['color']: c['id'] for c in classlist}\n",
    "    colormap_inv = {c['id']: c['color'] for c in classlist}"
   ]
  },
  {
   "cell_type": "code",
   "execution_count": 46,
   "metadata": {},
   "outputs": [],
   "source": [
    "def getSystemParams(systems, idx, eps=0):\n",
    "    \n",
    "    sys = systems[idx]\n",
    "    x0 = max(0, sys[\"x\"] - eps)\n",
    "    y0 = max(0, sys[\"y\"] - eps)\n",
    "    x1 = x0 + sys[\"width\"] + 2 * eps\n",
    "    y1 = y0 + sys[\"height\"] + 2 * eps\n",
    "    factor = 256 / (sys[\"height\"] + 2 * eps)\n",
    "    \n",
    "    def map_box_coords(x, y, w, h):\n",
    "        x = int((x - x0) * factor)\n",
    "        y = int((y - y0) * factor)\n",
    "        w = int(w * factor)\n",
    "        h = int(h * factor)\n",
    "        return x, y, w, h\n",
    "    \n",
    "    def map_img(img, interpolation=cv2.INTER_NEAREST):\n",
    "        crop = img[y0:y1, x0:x1].astype(np.uint8)\n",
    "        cy = (y1 + y0) // 2\n",
    "        res = cv2.resize(crop, (int((x1 - x0) * factor), 256), interpolation=interpolation)\n",
    "        # res = img[cy - 128: cy + 128, x0:x1]\n",
    "        return res\n",
    "        \n",
    "    return map_box_coords, map_img"
   ]
  },
  {
   "attachments": {},
   "cell_type": "markdown",
   "metadata": {},
   "source": [
    "# Generate dataset from default dataset"
   ]
  },
  {
   "cell_type": "code",
   "execution_count": 47,
   "metadata": {},
   "outputs": [
    {
     "name": "stderr",
     "output_type": "stream",
     "text": [
      " 12%|█▏        | 3/25 [01:50<13:33, 36.99s/it]\n"
     ]
    },
    {
     "ename": "KeyboardInterrupt",
     "evalue": "",
     "output_type": "error",
     "traceback": [
      "\u001b[1;31m---------------------------------------------------------------------------\u001b[0m",
      "\u001b[1;31mKeyboardInterrupt\u001b[0m                         Traceback (most recent call last)",
      "Cell \u001b[1;32mIn [47], line 79\u001b[0m\n\u001b[0;32m     77\u001b[0m img_y_multi \u001b[39m=\u001b[39m np\u001b[39m.\u001b[39mzeros((\u001b[39m256\u001b[39m, \u001b[39m256\u001b[39m, \u001b[39m48\u001b[39m), dtype\u001b[39m=\u001b[39m\u001b[39mbool\u001b[39m)\n\u001b[0;32m     78\u001b[0m \u001b[39mfor\u001b[39;00m i \u001b[39min\u001b[39;00m \u001b[39mrange\u001b[39m(\u001b[39m3\u001b[39m, \u001b[39m51\u001b[39m):\n\u001b[1;32m---> 79\u001b[0m     img_y_multi[\u001b[39m.\u001b[39m\u001b[39m.\u001b[39m\u001b[39m.\u001b[39m, i\u001b[39m-\u001b[39m\u001b[39m3\u001b[39m] \u001b[39m=\u001b[39m np\u001b[39m.\u001b[39many(map_img(imgs[i])[:, x0:x1] \u001b[39m>\u001b[39m \u001b[39m0\u001b[39m, axis\u001b[39m=\u001b[39m\u001b[39m2\u001b[39m)\n\u001b[0;32m     80\u001b[0m np\u001b[39m.\u001b[39msave(os\u001b[39m.\u001b[39mpath\u001b[39m.\u001b[39mjoin(out_path_y, \u001b[39mf\u001b[39m\u001b[39m\"\u001b[39m\u001b[39m{\u001b[39;00mout_idx\u001b[39m:\u001b[39;00m\u001b[39m03d\u001b[39m\u001b[39m}\u001b[39;00m\u001b[39m.npy\u001b[39m\u001b[39m\"\u001b[39m), img_y_multi)\n\u001b[0;32m     82\u001b[0m out_idx \u001b[39m+\u001b[39m\u001b[39m=\u001b[39m \u001b[39m1\u001b[39m\n",
      "\u001b[1;31mKeyboardInterrupt\u001b[0m: "
     ]
    }
   ],
   "source": [
    "out_idx = 1\n",
    "\n",
    "# make output directories\n",
    "os.makedirs(OUT_TRAIN_PATH_X, exist_ok=True)\n",
    "os.makedirs(OUT_TRAIN_PATH_Y, exist_ok=True)\n",
    "os.makedirs(OUT_TEST_PATH_X, exist_ok=True)\n",
    "os.makedirs(OUT_TEST_PATH_Y, exist_ok=True)\n",
    "\n",
    "for s_idx in tqdm(range(1, 26)):\n",
    "    sample_idx = f\"{s_idx:03d}\"\n",
    "\n",
    "    # for each sample:\n",
    "    imgs = [cv2.imread(os.path.join(PNG_PATH, sample_idx, f\"out-{i}.png\")) for i in range(51)]\n",
    "    bboxes = load_bboxes(BBOX_PATH, sample_idx, img_shape=imgs[0].shape)\n",
    "    \n",
    "    y_mapped = np.zeros(imgs[1].shape[:2], dtype=np.uint8)\n",
    "    y_tmp = cv2.cvtColor(imgs[1], cv2.COLOR_BGR2RGB)\n",
    "    for color in colormap:\n",
    "        y_mapped[np.all(y_tmp == ImageColor.getcolor(color, 'RGB'), axis=2)] = colormap[color]\n",
    "\n",
    "    systems = {bbox[\"id\"]: bbox for bbox in bboxes if bbox[\"type\"]==\"System\"}\n",
    "    unique_types = list(set([bbox[\"type\"] for bbox in bboxes if bbox[\"type\"] != \"System\"]))\n",
    "\n",
    "    for idx, type in enumerate(unique_types):\n",
    "        \n",
    "        # get all bboxes of current type\n",
    "        tbs = [bbox for bbox in bboxes if bbox[\"type\"] == type]\n",
    "        if len(tbs)==0:\n",
    "            print(\"no box found for:\", type)\n",
    "            continue\n",
    "        \n",
    "        # pick random bbox\n",
    "        rand_idx = random.randint(0, len(tbs) - 1)\n",
    "        bbox = tbs[rand_idx]\n",
    "        cx = bbox[\"cx\"]\n",
    "        cy = bbox[\"cy\"]\n",
    "        w = bbox[\"width\"]\n",
    "        h = bbox[\"height\"]\n",
    "        \n",
    "        # map to system coordinates\n",
    "        map_box_coords, map_img = getSystemParams(systems, int(bbox[\"systemId\"]))\n",
    "        cx, cy, w, h = map_box_coords(cx, cy, w, h)\n",
    "        img_x = map_img(imgs[0])\n",
    "        \n",
    "        # get frame centered around bbox center\n",
    "        x0 = cx - 128\n",
    "        x1 = cx + 128\n",
    "        if x0 < 0:\n",
    "            x0 = 0\n",
    "            x1 = 256\n",
    "        if x1 > img_x.shape[1]:\n",
    "            x1 = img_x.shape[1]\n",
    "            x0 = x1 - 256\n",
    "            \n",
    "        # split into train and test data\n",
    "        if s_idx < 20:\n",
    "            out_path_x = OUT_TRAIN_PATH_X\n",
    "            out_path_y = OUT_TRAIN_PATH_Y\n",
    "        else:\n",
    "            out_path_x = OUT_TEST_PATH_X\n",
    "            out_path_y = OUT_TEST_PATH_Y\n",
    "        if s_idx == 20:\n",
    "            out_idx = 1\n",
    "        \n",
    "        # crop and save x\n",
    "        img_x = img_x[:, x0:x1]\n",
    "        cv2.imwrite(os.path.join(out_path_x, f\"{out_idx:03d}.png\"), img_x)\n",
    "        \n",
    "        # crop and save y rgb\n",
    "        img_y = map_img(imgs[1])[:, x0:x1]\n",
    "        cv2.imwrite(os.path.join(out_path_y, f\"{out_idx:03d}_vis.png\"), img_y)\n",
    "        \n",
    "        # crop and save y int\n",
    "        img_y_mapped = map_img(y_mapped)[:, x0:x1]\n",
    "        cv2.imwrite(os.path.join(out_path_y, f\"{out_idx:03d}_int.png\"), img_y_mapped)\n",
    "        \n",
    "        img_y_multi = np.zeros((256, 256, 48), dtype=bool)\n",
    "        for i in range(3, 51):\n",
    "            img_y_multi[..., i-3] = np.any(map_img(imgs[i])[:, x0:x1] > 0, axis=2)\n",
    "        np.save(os.path.join(out_path_y, f\"{out_idx:03d}.npy\"), img_y_multi)\n",
    "        \n",
    "        out_idx += 1"
   ]
  },
  {
   "attachments": {},
   "cell_type": "markdown",
   "metadata": {},
   "source": [
    "# Generate dataset from augmented data"
   ]
  },
  {
   "cell_type": "code",
   "execution_count": 48,
   "metadata": {},
   "outputs": [
    {
     "name": "stdout",
     "output_type": "stream",
     "text": [
      "Processing augmentation: dilation_all_k3, starting with index 1\n"
     ]
    },
    {
     "name": "stderr",
     "output_type": "stream",
     "text": [
      "100%|██████████| 25/25 [00:17<00:00,  1.42it/s]\n"
     ]
    },
    {
     "name": "stdout",
     "output_type": "stream",
     "text": [
      "Processing augmentation: dilation_all_k5, starting with index 894\n"
     ]
    },
    {
     "name": "stderr",
     "output_type": "stream",
     "text": [
      "100%|██████████| 25/25 [00:17<00:00,  1.39it/s]\n"
     ]
    },
    {
     "name": "stdout",
     "output_type": "stream",
     "text": [
      "Processing augmentation: dilation_stafflines_k3, starting with index 1787\n"
     ]
    },
    {
     "name": "stderr",
     "output_type": "stream",
     "text": [
      "100%|██████████| 25/25 [00:25<00:00,  1.01s/it]\n"
     ]
    },
    {
     "name": "stdout",
     "output_type": "stream",
     "text": [
      "Processing augmentation: dilation_stafflines_k5, starting with index 2680\n"
     ]
    },
    {
     "name": "stderr",
     "output_type": "stream",
     "text": [
      "100%|██████████| 25/25 [00:26<00:00,  1.07s/it]\n"
     ]
    },
    {
     "name": "stdout",
     "output_type": "stream",
     "text": [
      "Processing augmentation: dilation_xy_lines_k3, starting with index 3573\n"
     ]
    },
    {
     "name": "stderr",
     "output_type": "stream",
     "text": [
      "100%|██████████| 25/25 [00:30<00:00,  1.22s/it]\n"
     ]
    },
    {
     "name": "stdout",
     "output_type": "stream",
     "text": [
      "Processing augmentation: dilation_xy_lines_k5, starting with index 4466\n"
     ]
    },
    {
     "name": "stderr",
     "output_type": "stream",
     "text": [
      "100%|██████████| 25/25 [00:24<00:00,  1.01it/s]\n"
     ]
    },
    {
     "name": "stdout",
     "output_type": "stream",
     "text": [
      "Processing augmentation: ideal, starting with index 5359\n"
     ]
    },
    {
     "name": "stderr",
     "output_type": "stream",
     "text": [
      "100%|██████████| 25/25 [00:23<00:00,  1.08it/s]\n"
     ]
    },
    {
     "name": "stdout",
     "output_type": "stream",
     "text": [
      "Processing augmentation: staffline_interruptions, starting with index 6252\n"
     ]
    },
    {
     "name": "stderr",
     "output_type": "stream",
     "text": [
      "100%|██████████| 25/25 [00:22<00:00,  1.13it/s]\n"
     ]
    },
    {
     "name": "stdout",
     "output_type": "stream",
     "text": [
      "Processing augmentation: staffline_thickness_variation, starting with index 7145\n"
     ]
    },
    {
     "name": "stderr",
     "output_type": "stream",
     "text": [
      "100%|██████████| 25/25 [00:28<00:00,  1.12s/it]\n"
     ]
    },
    {
     "name": "stdout",
     "output_type": "stream",
     "text": [
      "Processing augmentation: staffline_y_variation, starting with index 8038\n"
     ]
    },
    {
     "name": "stderr",
     "output_type": "stream",
     "text": [
      "100%|██████████| 25/25 [00:23<00:00,  1.08it/s]\n"
     ]
    }
   ],
   "source": [
    "from Preprocessing.dataset import listSubFiles, groupPaths\n",
    "\n",
    "AUG_PATH = os.path.join(DATASET_PATH, \"aug\")\n",
    "AUG_OUT_PATH = os.path.join(DATASET_PATH, \"unet_aug\")\n",
    "OUT_TRAIN_PATH_X = os.path.join(AUG_OUT_PATH, \"train\", \"x\")\n",
    "OUT_TRAIN_PATH_Y = os.path.join(AUG_OUT_PATH, \"train\", \"y\")\n",
    "OUT_TEST_PATH_X = os.path.join(AUG_OUT_PATH, \"test\", \"x\")\n",
    "OUT_TEST_PATH_Y = os.path.join(AUG_OUT_PATH, \"test\", \"y\")\n",
    "paths = listSubFiles(AUG_PATH, depth=3)\n",
    "augmentations = groupPaths(paths, depth=2, return_group_names=True)[0]\n",
    "out_idx_train = 1\n",
    "out_idx_test = 1\n",
    "out_idx = 1\n",
    "\n",
    "# make output directories\n",
    "os.makedirs(OUT_TRAIN_PATH_X, exist_ok=True)\n",
    "os.makedirs(OUT_TRAIN_PATH_Y, exist_ok=True)\n",
    "os.makedirs(OUT_TEST_PATH_X, exist_ok=True)\n",
    "os.makedirs(OUT_TEST_PATH_Y, exist_ok=True)\n",
    "\n",
    "for idx, aug in enumerate(augmentations):\n",
    "    print(f\"Processing augmentation ({idx}/{len(augmentations)}): {aug}, starting with index {out_idx_train}, {out_idx_test} (train, test)\")\n",
    "    for s_idx in tqdm(range(1, 26)):\n",
    "        \n",
    "        sample_idx = f\"{s_idx:03d}\"\n",
    "\n",
    "        # for each sample:\n",
    "        orig_img_x = cv2.imread(os.path.join(AUG_PATH, aug, \"x\", f\"{sample_idx}.png\"))\n",
    "        orig_img_y = cv2.imread(os.path.join(AUG_PATH, aug, \"y\", f\"{sample_idx}.png\"))\n",
    "        \n",
    "        bboxes = load_bboxes(BBOX_PATH, sample_idx, img_shape=orig_img_x.shape)\n",
    "        systems = {bbox[\"id\"]: bbox for bbox in bboxes if bbox[\"type\"]==\"System\"}\n",
    "        unique_types = list(set([bbox[\"type\"] for bbox in bboxes if bbox[\"type\"] != \"System\"]))\n",
    "        \n",
    "        for idx, type in enumerate(unique_types):\n",
    "            \n",
    "            # get all bboxes of current type\n",
    "            tbs = [bbox for bbox in bboxes if bbox[\"type\"] == type]\n",
    "            if len(tbs)==0:\n",
    "                print(\"no box found for:\", type)\n",
    "                continue\n",
    "            \n",
    "            # pick random bbox\n",
    "            rand_idx = random.randint(0, len(tbs) - 1)\n",
    "            bbox = tbs[rand_idx]\n",
    "            cx = bbox[\"cx\"]\n",
    "            cy = bbox[\"cy\"]\n",
    "            w = bbox[\"width\"]\n",
    "            h = bbox[\"height\"]\n",
    "            \n",
    "            # map to system coordinates\n",
    "            map_box_coords, map_img = getSystemParams(systems, int(bbox[\"systemId\"]))\n",
    "            cx, cy, w, h = map_box_coords(cx, cy, w, h)\n",
    "            img_x = map_img(orig_img_x)\n",
    "            \n",
    "            # get frame centered around bbox center\n",
    "            x0 = cx - 128\n",
    "            x1 = cx + 128\n",
    "            if x0 < 0:\n",
    "                x0 = 0\n",
    "                x1 = 256\n",
    "            if x1 > img_x.shape[1]:\n",
    "                x1 = img_x.shape[1]\n",
    "                x0 = x1 - 256\n",
    "                \n",
    "            # split into train and test data\n",
    "            if s_idx < 20:\n",
    "                out_path_x = OUT_TRAIN_PATH_X\n",
    "                out_path_y = OUT_TRAIN_PATH_Y\n",
    "                out_idx = out_idx_train\n",
    "                out_idx_train += 1\n",
    "            else:\n",
    "                out_path_x = OUT_TEST_PATH_X\n",
    "                out_path_y = OUT_TEST_PATH_Y\n",
    "                out_idx = out_idx_test\n",
    "                out_idx_test += 1\n",
    "            \n",
    "            # crop and save x\n",
    "            img_x = img_x[:, x0:x1]\n",
    "            cv2.imwrite(os.path.join(out_path_x, f\"{out_idx:04d}.png\"), 255 - img_x)\n",
    "            \n",
    "            # crop and save y\n",
    "            img_y = map_img(orig_img_y)[:, x0:x1]\n",
    "            cv2.imwrite(os.path.join(out_path_y, f\"{out_idx:04d}.png\"), img_y)\n",
    "            "
   ]
  },
  {
   "attachments": {},
   "cell_type": "markdown",
   "metadata": {},
   "source": [
    "# Interpolation experiments"
   ]
  },
  {
   "cell_type": "code",
   "execution_count": 45,
   "metadata": {},
   "outputs": [
    {
     "data": {
      "text/plain": [
       "(256, 256)"
      ]
     },
     "execution_count": 45,
     "metadata": {},
     "output_type": "execute_result"
    },
    {
     "data": {
      "image/png": "[encoded data removed]",
      "text/plain": [
       "<Figure size 640x480 with 1 Axes>"
      ]
     },
     "metadata": {},
     "output_type": "display_data"
    }
   ],
   "source": [
    "idx = 1\n",
    "sample_idx = f\"{s_idx:03d}\"\n",
    "\n",
    "# for each sample:\n",
    "orig_img_x = cv2.imread(os.path.join(AUG_PATH, aug, \"x\", f\"{sample_idx}.png\"))\n",
    "orig_img_y = cv2.imread(os.path.join(AUG_PATH, aug, \"y\", f\"{sample_idx}.png\"), cv2.IMREAD_GRAYSCALE)\n",
    "\n",
    "bboxes = load_bboxes(BBOX_PATH, sample_idx, img_shape=orig_img_x.shape)\n",
    "systems = {bbox[\"id\"]: bbox for bbox in bboxes if bbox[\"type\"]==\"System\"}\n",
    "unique_types = list(set([bbox[\"type\"] for bbox in bboxes if bbox[\"type\"] != \"System\"]))\n",
    "\n",
    "# get all bboxes of current type\n",
    "type = unique_types[0]\n",
    "tbs = [bbox for bbox in bboxes if bbox[\"type\"] == type]\n",
    "\n",
    "# pick random bbox\n",
    "rand_idx = random.randint(0, len(tbs) - 1)\n",
    "bbox = tbs[rand_idx]\n",
    "cx = bbox[\"cx\"]\n",
    "cy = bbox[\"cy\"]\n",
    "w = bbox[\"width\"]\n",
    "h = bbox[\"height\"]\n",
    "\n",
    "# map to system coordinates\n",
    "map_box_coords, map_img = getSystemParams(systems, int(bbox[\"systemId\"]))\n",
    "cx, cy, w, h = map_box_coords(cx, cy, w, h)\n",
    "img_x = map_img(orig_img_x)\n",
    "\n",
    "# get frame centered around bbox center\n",
    "x0 = cx - 128\n",
    "x1 = cx + 128\n",
    "if x0 < 0:\n",
    "    x0 = 0\n",
    "    x1 = 256\n",
    "if x1 > img_x.shape[1]:\n",
    "    x1 = img_x.shape[1]\n",
    "    x0 = x1 - 256\n",
    "\n",
    "# crop and save y\n",
    "img_y = map_img(orig_img_y, cv2.INTER_NEAREST)[:, x0:x1]\n",
    "img_x = img_x[:, x0:x1]\n",
    "\n",
    "vis = 255 - img_x\n",
    "vis[img_y==8] = (255, 0, 0)\n",
    "plt.imshow(vis)\n",
    "# plt.imshow(img_y==8)\n",
    "img_y.shape"
   ]
  }
 ],
 "metadata": {
  "kernelspec": {
   "display_name": "Python 3",
   "language": "python",
   "name": "python3"
  },
  "language_info": {
   "codemirror_mode": {
    "name": "ipython",
    "version": 3
   },
   "file_extension": ".py",
   "mimetype": "text/x-python",
   "name": "python",
   "nbconvert_exporter": "python",
   "pygments_lexer": "ipython3",
   "version": "3.10.7 (tags/v3.10.7:6cc6b13, Sep  5 2022, 14:08:36) [MSC v.1933 64 bit (AMD64)]"
  },
  "orig_nbformat": 4,
  "vscode": {
   "interpreter": {
    "hash": "43afbf7b8c92a6397086dae0be21e5b6ecbdfbb1f0b6983c22cfbb740a73e7f5"
   }
  }
 },
 "nbformat": 4,
 "nbformat_minor": 2
}
