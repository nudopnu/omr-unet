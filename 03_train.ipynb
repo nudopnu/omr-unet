{
 "cells": [
  {
   "cell_type": "code",
   "execution_count": 1,
   "metadata": {},
   "outputs": [],
   "source": [
    "import os\n",
    "import json\n",
    "import tensorflow as tf\n",
    "import keras\n",
    "import cv2\n",
    "import numpy as np\n",
    "import pandas as pd\n",
    "import matplotlib.pyplot as plt\n",
    "import random\n",
    "from tqdm import tqdm\n",
    "from keras.utils.np_utils import to_categorical\n",
    "from PIL import ImageColor\n",
    "from Preprocessing.dataset import listSubFiles, groupPaths\n",
    "\n",
    "# metadata\n",
    "NUM_CLASSES = 48\n",
    "X_TARGET_SHAPE = (256, 256, 1)\n",
    "\n",
    "# hyperparams\n",
    "EPOCHS = 100\n",
    "BATCH_SIZE = 8"
   ]
  },
  {
   "attachments": {},
   "cell_type": "markdown",
   "metadata": {},
   "source": [
    "# Model definition"
   ]
  },
  {
   "cell_type": "code",
   "execution_count": 4,
   "metadata": {},
   "outputs": [
    {
     "name": "stdout",
     "output_type": "stream",
     "text": [
      "Model: \"model\"\n",
      "__________________________________________________________________________________________________\n",
      " Layer (type)                   Output Shape         Param #     Connected to                     \n",
      "==================================================================================================\n",
      " input_1 (InputLayer)           [(None, 256, 256, 1  0           []                               \n",
      "                                )]                                                                \n",
      "                                                                                                  \n",
      " batch_normalization (BatchNorm  (None, 256, 256, 1)  4          ['input_1[0][0]']                \n",
      " alization)                                                                                       \n",
      "                                                                                                  \n",
      " conv2d (Conv2D)                (None, 256, 256, 16  160         ['batch_normalization[0][0]']    \n",
      "                                )                                                                 \n",
      "                                                                                                  \n",
      " dropout (Dropout)              (None, 256, 256, 16  0           ['conv2d[0][0]']                 \n",
      "                                )                                                                 \n",
      "                                                                                                  \n",
      " conv2d_1 (Conv2D)              (None, 256, 256, 16  2320        ['dropout[0][0]']                \n",
      "                                )                                                                 \n",
      "                                                                                                  \n",
      " max_pooling2d (MaxPooling2D)   (None, 128, 128, 16  0           ['conv2d_1[0][0]']               \n",
      "                                )                                                                 \n",
      "                                                                                                  \n",
      " conv2d_2 (Conv2D)              (None, 128, 128, 32  4640        ['max_pooling2d[0][0]']          \n",
      "                                )                                                                 \n",
      "                                                                                                  \n",
      " dropout_1 (Dropout)            (None, 128, 128, 32  0           ['conv2d_2[0][0]']               \n",
      "                                )                                                                 \n",
      "                                                                                                  \n",
      " conv2d_3 (Conv2D)              (None, 128, 128, 32  9248        ['dropout_1[0][0]']              \n",
      "                                )                                                                 \n",
      "                                                                                                  \n",
      " max_pooling2d_1 (MaxPooling2D)  (None, 64, 64, 32)  0           ['conv2d_3[0][0]']               \n",
      "                                                                                                  \n",
      " conv2d_4 (Conv2D)              (None, 64, 64, 64)   18496       ['max_pooling2d_1[0][0]']        \n",
      "                                                                                                  \n",
      " dropout_2 (Dropout)            (None, 64, 64, 64)   0           ['conv2d_4[0][0]']               \n",
      "                                                                                                  \n",
      " conv2d_5 (Conv2D)              (None, 64, 64, 64)   36928       ['dropout_2[0][0]']              \n",
      "                                                                                                  \n",
      " conv2d_transpose (Conv2DTransp  (None, 128, 128, 32  8224       ['conv2d_5[0][0]']               \n",
      " ose)                           )                                                                 \n",
      "                                                                                                  \n",
      " concatenate (Concatenate)      (None, 128, 128, 64  0           ['conv2d_transpose[0][0]',       \n",
      "                                )                                 'conv2d_3[0][0]']               \n",
      "                                                                                                  \n",
      " conv2d_6 (Conv2D)              (None, 128, 128, 32  18464       ['concatenate[0][0]']            \n",
      "                                )                                                                 \n",
      "                                                                                                  \n",
      " dropout_3 (Dropout)            (None, 128, 128, 32  0           ['conv2d_6[0][0]']               \n",
      "                                )                                                                 \n",
      "                                                                                                  \n",
      " conv2d_7 (Conv2D)              (None, 128, 128, 32  9248        ['dropout_3[0][0]']              \n",
      "                                )                                                                 \n",
      "                                                                                                  \n",
      " conv2d_transpose_1 (Conv2DTran  (None, 256, 256, 16  2064       ['conv2d_7[0][0]']               \n",
      " spose)                         )                                                                 \n",
      "                                                                                                  \n",
      " concatenate_1 (Concatenate)    (None, 256, 256, 32  0           ['conv2d_transpose_1[0][0]',     \n",
      "                                )                                 'conv2d_1[0][0]']               \n",
      "                                                                                                  \n",
      " conv2d_8 (Conv2D)              (None, 256, 256, 16  4624        ['concatenate_1[0][0]']          \n",
      "                                )                                                                 \n",
      "                                                                                                  \n",
      " dropout_4 (Dropout)            (None, 256, 256, 16  0           ['conv2d_8[0][0]']               \n",
      "                                )                                                                 \n",
      "                                                                                                  \n",
      " conv2d_9 (Conv2D)              (None, 256, 256, 16  2320        ['dropout_4[0][0]']              \n",
      "                                )                                                                 \n",
      "                                                                                                  \n",
      " conv2d_10 (Conv2D)             (None, 256, 256, 49  833         ['conv2d_9[0][0]']               \n",
      "                                )                                                                 \n",
      "                                                                                                  \n",
      "==================================================================================================\n",
      "Total params: 117,573\n",
      "Trainable params: 117,571\n",
      "Non-trainable params: 2\n",
      "__________________________________________________________________________________________________\n"
     ]
    }
   ],
   "source": [
    "\n",
    "def ReduceBlock(inputs, features, dropout=0.3):\n",
    "    # fmt: off\n",
    "    conv = tf.keras.layers.Conv2D(features, (3, 3), activation=\"relu\", kernel_initializer=\"he_normal\", padding=\"same\")(inputs)\n",
    "    conv = tf.keras.layers.Dropout(dropout)(conv)\n",
    "    conv = tf.keras.layers.Conv2D(features, (3, 3), activation=\"relu\", kernel_initializer=\"he_normal\", padding=\"same\")(conv)\n",
    "    maxp = tf.keras.layers.MaxPool2D((2, 2), strides=(2, 2))(conv)\n",
    "    # fmt: on\n",
    "    return conv, maxp\n",
    "\n",
    "\n",
    "def ExpandBlock(inputs, features, concatenate_with):\n",
    "    # fmt: off\n",
    "    upsa = tf.keras.layers.Conv2DTranspose(features, (2, 2), strides=(2, 2), padding=\"same\")(inputs)\n",
    "    upsa = tf.keras.layers.concatenate([upsa, concatenate_with])\n",
    "    conv = tf.keras.layers.Conv2D(features, (3, 3), activation=\"relu\", kernel_initializer=\"he_normal\", padding=\"same\")(upsa)\n",
    "    conv = tf.keras.layers.Dropout(0.3)(conv)\n",
    "    conv = tf.keras.layers.Conv2D(features, (3, 3), activation=\"relu\", kernel_initializer=\"he_normal\", padding=\"same\")(conv)\n",
    "    # fmt: on\n",
    "    return upsa, conv\n",
    "\n",
    "\n",
    "def Unet(num_classes, input_shape=(128, 128, 1)):\n",
    "\n",
    "    inputs = tf.keras.layers.Input(input_shape)\n",
    "    bn = tf.keras.layers.BatchNormalization()(inputs)\n",
    "\n",
    "    # Contraction path\n",
    "    c1, p1 = ReduceBlock(bn, 16, dropout=0.3)\n",
    "    c2, p2 = ReduceBlock(p1, 32, dropout=0.3)\n",
    "    c3, _ = ReduceBlock(p2, 64, dropout=0.3)\n",
    "    # c4, _ = ReduceBlock(p3, 128, dropout=0.3)\n",
    "\n",
    "    # Expansion path\n",
    "    # _, c7 = ExpandBlock(c4, 64, concatenate_with=c3)\n",
    "    _, c8 = ExpandBlock(c3, 32, concatenate_with=c2)\n",
    "    _, c9 = ExpandBlock(c8, 16, concatenate_with=c1)\n",
    "\n",
    "    outputs = tf.keras.layers.Conv2D(num_classes + 1, (1, 1), activation=\"softmax\")(c9)\n",
    "    return inputs, outputs\n",
    "\n",
    "\n",
    "tf.keras.backend.clear_session()\n",
    "inputs, outputs = Unet(NUM_CLASSES, X_TARGET_SHAPE)\n",
    "model = tf.keras.Model(inputs=[inputs], outputs=[outputs])\n",
    "model.compile(\n",
    "    optimizer='adam', loss=\"categorical_crossentropy\", metrics=[\"accuracy\"]\n",
    ")\n",
    "model.summary()"
   ]
  },
  {
   "attachments": {},
   "cell_type": "markdown",
   "metadata": {},
   "source": [
    "# Dataset"
   ]
  },
  {
   "cell_type": "code",
   "execution_count": 5,
   "metadata": {},
   "outputs": [
    {
     "data": {
      "text/plain": [
       "('..\\\\..\\\\datasets\\\\generated\\\\unet_aug\\\\train\\\\x\\\\0001.png',\n",
       " '..\\\\..\\\\datasets\\\\generated\\\\unet_aug\\\\valid\\\\x\\\\0001.png',\n",
       " '..\\\\..\\\\datasets\\\\generated\\\\unet_aug\\\\valid\\\\y\\\\0001.png')"
      ]
     },
     "execution_count": 5,
     "metadata": {},
     "output_type": "execute_result"
    }
   ],
   "source": [
    "# DATASET_PATH = os.path.join(\"..\", \"..\", \"datasets\", \"generated\", \"unet\")\n",
    "DATASET_PATH = os.path.join(\"..\", \"..\", \"datasets\", \"generated\", \"unet_aug\")\n",
    "\n",
    "paths = listSubFiles(DATASET_PATH, depth=3)\n",
    "test, train, valid = groupPaths(paths, 2)\n",
    "train_x, train_y = groupPaths(train, 1)\n",
    "valid_x, valid_y = groupPaths(valid, 1)\n",
    "\n",
    "train_x[0], valid_x[0], valid_y[0]"
   ]
  },
  {
   "cell_type": "code",
   "execution_count": 6,
   "metadata": {},
   "outputs": [],
   "source": [
    "class Samples(keras.utils.Sequence):\n",
    "    def __init__(self, batch_size, img_size, num_classes, x_paths, y_paths):\n",
    "        self.batch_size = batch_size\n",
    "        self.img_size = img_size\n",
    "        self.x_paths = x_paths\n",
    "        self.y_paths = y_paths\n",
    "        self.num_classes = num_classes\n",
    "    \n",
    "    def __len__(self):\n",
    "        return len(self.x_paths)\n",
    "    \n",
    "    def __getitem__(self, idx):\n",
    "        i = idx * self.batch_size\n",
    "        batch_x_paths = self.x_paths[i:i + self.batch_size]\n",
    "        batch_y_paths = self.y_paths[i:i + self.batch_size]\n",
    "        x = np.zeros((self.batch_size,) + self.img_size + (1,), dtype=np.uint8)\n",
    "        for j, x_path in enumerate(batch_x_paths):\n",
    "            x[j] = 255 - cv2.imread(x_path, cv2.IMREAD_GRAYSCALE)[..., None]\n",
    "        y = np.zeros((self.batch_size,) + self.img_size + (self.num_classes + 1,), dtype=np.uint8)\n",
    "        # y = np.zeros((self.batch_size,) + self.img_size + (self.num_classes,), dtype=np.float32)\n",
    "        for j, y_path in enumerate(batch_y_paths):\n",
    "            # y[j] = np.load(y_path)\n",
    "            img = cv2.imread(y_path, cv2.IMREAD_GRAYSCALE)\n",
    "            y[j] = to_categorical(img, self.num_classes + 1)\n",
    "        return x, y\n",
    "        "
   ]
  },
  {
   "cell_type": "code",
   "execution_count": 7,
   "metadata": {},
   "outputs": [],
   "source": [
    "random.Random(1337).shuffle(train_x)\n",
    "random.Random(1337).shuffle(train_y)\n",
    "\n",
    "train_gen = Samples(1, (256, 256), 48, train_x, train_y)\n",
    "valid_gen = Samples(1, (256, 256), 48, valid_x, valid_y)"
   ]
  },
  {
   "cell_type": "code",
   "execution_count": 8,
   "metadata": {},
   "outputs": [
    {
     "data": {
      "text/plain": [
       "((1, 256, 256, 1), (1, 256, 256, 49), dtype('uint8'), dtype('uint8'))"
      ]
     },
     "execution_count": 8,
     "metadata": {},
     "output_type": "execute_result"
    },
    {
     "data": {
      "image/png": "[encoded data removed]",
      "text/plain": [
       "<Figure size 640x480 with 2 Axes>"
      ]
     },
     "metadata": {},
     "output_type": "display_data"
    }
   ],
   "source": [
    "x, y = train_gen.__getitem__(0)\n",
    "\n",
    "y_vis = np.any(y[0] > 0, axis=2)\n",
    "fig, axs = plt.subplots(1, 2)\n",
    "axs[0].imshow(x[0])\n",
    "axs[1].imshow(np.argmax(y[0], axis=2)==8)\n",
    "axs[0].set_title(\"x\")\n",
    "axs[1].set_title(\"y\")\n",
    "x.shape, y.shape, y.dtype, x.dtype"
   ]
  },
  {
   "attachments": {},
   "cell_type": "markdown",
   "metadata": {},
   "source": [
    "# Training"
   ]
  },
  {
   "cell_type": "code",
   "execution_count": 9,
   "metadata": {},
   "outputs": [
    {
     "name": "stdout",
     "output_type": "stream",
     "text": [
      "Epoch 1/100\n",
      "7679/7680 [============================>.] - ETA: 0s - loss: 0.1259 - accuracy: 0.9660\n",
      "Epoch 1: val_loss improved from inf to 0.03599, saving model to ../../models\\unet_256x256.h5\n",
      "7680/7680 [==============================] - 280s 35ms/step - loss: 0.1259 - accuracy: 0.9660 - val_loss: 0.0360 - val_accuracy: 0.9875\n",
      "Epoch 2/100\n",
      "7679/7680 [============================>.] - ETA: 0s - loss: 0.0341 - accuracy: 0.9886\n",
      "Epoch 2: val_loss improved from 0.03599 to 0.02270, saving model to ../../models\\unet_256x256.h5\n",
      "7680/7680 [==============================] - 223s 29ms/step - loss: 0.0341 - accuracy: 0.9886 - val_loss: 0.0227 - val_accuracy: 0.9914\n",
      "Epoch 3/100\n",
      "7679/7680 [============================>.] - ETA: 0s - loss: 0.0249 - accuracy: 0.9915\n",
      "Epoch 3: val_loss improved from 0.02270 to 0.01894, saving model to ../../models\\unet_256x256.h5\n",
      "7680/7680 [==============================] - 251s 33ms/step - loss: 0.0249 - accuracy: 0.9915 - val_loss: 0.0189 - val_accuracy: 0.9932\n",
      "Epoch 4/100\n",
      "7680/7680 [==============================] - ETA: 0s - loss: 0.0218 - accuracy: 0.9926\n",
      "Epoch 4: val_loss did not improve from 0.01894\n",
      "7680/7680 [==============================] - 253s 33ms/step - loss: 0.0218 - accuracy: 0.9926 - val_loss: 0.0218 - val_accuracy: 0.9929\n",
      "Epoch 5/100\n",
      "7680/7680 [==============================] - ETA: 0s - loss: 0.0202 - accuracy: 0.9931\n",
      "Epoch 5: val_loss improved from 0.01894 to 0.01779, saving model to ../../models\\unet_256x256.h5\n",
      "7680/7680 [==============================] - 256s 33ms/step - loss: 0.0202 - accuracy: 0.9931 - val_loss: 0.0178 - val_accuracy: 0.9941\n",
      "Epoch 6/100\n",
      "7679/7680 [============================>.] - ETA: 0s - loss: 0.0189 - accuracy: 0.9935\n",
      "Epoch 6: val_loss improved from 0.01779 to 0.01666, saving model to ../../models\\unet_256x256.h5\n",
      "7680/7680 [==============================] - 245s 32ms/step - loss: 0.0189 - accuracy: 0.9935 - val_loss: 0.0167 - val_accuracy: 0.9946\n",
      "Epoch 7/100\n",
      "7678/7680 [============================>.] - ETA: 0s - loss: 0.0181 - accuracy: 0.9939\n",
      "Epoch 7: val_loss improved from 0.01666 to 0.01636, saving model to ../../models\\unet_256x256.h5\n",
      "7680/7680 [==============================] - 268s 35ms/step - loss: 0.0181 - accuracy: 0.9939 - val_loss: 0.0164 - val_accuracy: 0.9948\n",
      "Epoch 8/100\n",
      "7679/7680 [============================>.] - ETA: 0s - loss: 0.0173 - accuracy: 0.9942\n",
      "Epoch 8: val_loss improved from 0.01636 to 0.01577, saving model to ../../models\\unet_256x256.h5\n",
      "7680/7680 [==============================] - 269s 35ms/step - loss: 0.0173 - accuracy: 0.9942 - val_loss: 0.0158 - val_accuracy: 0.9952\n",
      "Epoch 9/100\n",
      "7679/7680 [============================>.] - ETA: 0s - loss: 0.0168 - accuracy: 0.9944\n",
      "Epoch 9: val_loss improved from 0.01577 to 0.01522, saving model to ../../models\\unet_256x256.h5\n",
      "7680/7680 [==============================] - 257s 34ms/step - loss: 0.0168 - accuracy: 0.9944 - val_loss: 0.0152 - val_accuracy: 0.9952\n",
      "Epoch 10/100\n",
      "7679/7680 [============================>.] - ETA: 0s - loss: 0.0160 - accuracy: 0.9946\n",
      "Epoch 10: val_loss improved from 0.01522 to 0.01409, saving model to ../../models\\unet_256x256.h5\n",
      "7680/7680 [==============================] - 259s 34ms/step - loss: 0.0160 - accuracy: 0.9946 - val_loss: 0.0141 - val_accuracy: 0.9955\n",
      "Epoch 11/100\n",
      "7679/7680 [============================>.] - ETA: 0s - loss: 0.0158 - accuracy: 0.9947\n",
      "Epoch 11: val_loss improved from 0.01409 to 0.01402, saving model to ../../models\\unet_256x256.h5\n",
      "7680/7680 [==============================] - 234s 30ms/step - loss: 0.0158 - accuracy: 0.9947 - val_loss: 0.0140 - val_accuracy: 0.9956\n",
      "Epoch 12/100\n",
      "7679/7680 [============================>.] - ETA: 0s - loss: 0.0155 - accuracy: 0.9948\n",
      "Epoch 12: val_loss did not improve from 0.01402\n",
      "7680/7680 [==============================] - 234s 31ms/step - loss: 0.0155 - accuracy: 0.9948 - val_loss: 0.0146 - val_accuracy: 0.9956\n",
      "Epoch 13/100\n",
      "7680/7680 [==============================] - ETA: 0s - loss: 0.0163 - accuracy: 0.9947\n",
      "Epoch 13: val_loss did not improve from 0.01402\n",
      "7680/7680 [==============================] - 247s 32ms/step - loss: 0.0163 - accuracy: 0.9947 - val_loss: 0.0153 - val_accuracy: 0.9955\n",
      "Epoch 14/100\n",
      "7679/7680 [============================>.] - ETA: 0s - loss: 0.0151 - accuracy: 0.9949\n",
      "Epoch 14: val_loss did not improve from 0.01402\n",
      "7680/7680 [==============================] - 254s 33ms/step - loss: 0.0151 - accuracy: 0.9949 - val_loss: 0.0152 - val_accuracy: 0.9955\n"
     ]
    }
   ],
   "source": [
    "OUT_PATH = \"../../models\"\n",
    "MODEL_FILENAME = \"unet_256x256\"\n",
    "\n",
    "callbacks = [\n",
    "    tf.keras.callbacks.EarlyStopping(patience=3),\n",
    "    tf.keras.callbacks.ModelCheckpoint(\n",
    "        os.path.join(OUT_PATH, MODEL_FILENAME + \".h5\"),\n",
    "        verbose=1,\n",
    "        mode=\"min\",\n",
    "        save_best_only=True,\n",
    "        monitor=\"val_loss\",\n",
    "    ),\n",
    "    tf.keras.callbacks.TensorBoard(),\n",
    "]\n",
    "\n",
    "history = model.fit(\n",
    "    train_gen,\n",
    "    validation_data=valid_gen,\n",
    "    verbose=1,\n",
    "    epochs=EPOCHS,\n",
    "    callbacks=callbacks,\n",
    ")\n",
    "\n",
    "# save history as json for further evaluation\n",
    "history_filename = '{}_history.json'.format(MODEL_FILENAME)\n",
    "history_filepath = os.path.join(OUT_PATH, history_filename)\n",
    "with open(history_filepath, 'w') as history_json_file:\n",
    "    json.dump(history.history, history_json_file)\n"
   ]
  },
  {
   "attachments": {},
   "cell_type": "markdown",
   "metadata": {},
   "source": [
    "# Evaluate Model"
   ]
  },
  {
   "cell_type": "code",
   "execution_count": 8,
   "metadata": {},
   "outputs": [
    {
     "data": {
      "text/plain": [
       "(15360, 4800, 3840, 48)"
      ]
     },
     "execution_count": 8,
     "metadata": {},
     "output_type": "execute_result"
    }
   ],
   "source": [
    "DATASET_PATH = os.path.join(\"..\", \"..\", \"datasets\", \"generated\", \"unet_aug\")\n",
    "SPLITFILE_PATH = os.path.join(\"..\", \"..\", \"datasets\", \"generated\", \"split.csv\")\n",
    "\n",
    "# get file paths\n",
    "paths = listSubFiles(DATASET_PATH, depth=3)\n",
    "test, train, valid = groupPaths(paths, 2)\n",
    "test_x, test_y = groupPaths(test, 1)\n",
    "\n",
    "# obtain classes\n",
    "df = pd.read_csv(SPLITFILE_PATH, sep=\";\", names=[\"x\", \"y\", \"aug\", \"classname\", \"outx\", \"outy\"])\n",
    "\n",
    "# load model\n",
    "model = keras.models.load_model(os.path.join(\"..\", \"..\", \"models\", \"unet_256x256.h5\"))\n",
    "\n",
    "with open('../../datasets/generated/classlist.json', 'r') as file:\n",
    "    classlist = json.load(file)\n",
    "    class_mapping = {e[\"class\"]: e[\"id\"] for e in classlist}\n",
    "    class_mapping_inv = {e[\"id\"]: e[\"class\"] for e in classlist}\n",
    "len(train), len(test), len(valid), len(class_mapping)"
   ]
  },
  {
   "cell_type": "code",
   "execution_count": 5,
   "metadata": {},
   "outputs": [],
   "source": [
    "def get_pixel_accuracy(gt_classes, predicted_classes, classIdx):\n",
    "    \n",
    "    # Get binary version per class\n",
    "    pred_binary = predicted_classes == classIdx\n",
    "    gt_binary = gt_classes == classIdx\n",
    "\n",
    "    # calculate true positive and true negative\n",
    "    tp = np.sum(pred_binary * gt_binary)\n",
    "    tn = np.sum((1 - pred_binary) * (1 - gt_binary))\n",
    "\n",
    "    # calculate false positive and false negative\n",
    "    fp = np.sum(pred_binary * (1 - gt_binary))\n",
    "    fn = np.sum((1 - pred_binary) * gt_binary)\n",
    "\n",
    "    ac = (tp + tn) / (tp + tn + fp + fn)\n",
    "    return ac\n",
    "\n",
    "def get_pixel_fscore(gt_classes, predicted_classes, classIdx):\n",
    "    \n",
    "    # Get binary version per class\n",
    "    pred_binary = predicted_classes == classIdx\n",
    "    gt_binary = gt_classes == classIdx\n",
    "\n",
    "    # calculate true positive and true negative\n",
    "    tp = np.sum(pred_binary * gt_binary)\n",
    "    tn = np.sum((1 - pred_binary) * (1 - gt_binary))\n",
    "\n",
    "    # calculate false positive and false negative\n",
    "    fp = np.sum(pred_binary * (1 - gt_binary))\n",
    "    fn = np.sum((1 - pred_binary) * gt_binary)\n",
    "\n",
    "    if tp == 0:\n",
    "        return 1\n",
    "    ac = (2 * tp) / (2 * tp + fp + fn)\n",
    "    return ac\n",
    "\n",
    "\n",
    "\n",
    "def process_batch_accuracy(batch_size, batch_idx, n_classes):\n",
    "    batch_x = np.zeros((batch_size, 256, 256, 1), np.uint8)\n",
    "    batch_y = np.zeros((batch_size, 256, 256), np.uint8)\n",
    "    batch_paths_x = test_x[batch_idx * batch_size:(batch_idx + 1) * batch_size]\n",
    "    batch_paths_y = test_y[batch_idx * batch_size:(batch_idx + 1) * batch_size]\n",
    "    for j in range(batch_size):\n",
    "        batch_x[j] = cv2.imread(batch_paths_x[j], cv2.IMREAD_GRAYSCALE)[..., None]\n",
    "        batch_x[j] = np.array((batch_x[j] - np.mean(batch_x[j])) / np.std(batch_x[j])).astype(np.uint8)\n",
    "        batch_y[j] = cv2.imread(batch_paths_y[j], cv2.IMREAD_GRAYSCALE)\n",
    "\n",
    "    # predict\n",
    "    prediction_masks = model.predict(batch_x, verbose=0)\n",
    "\n",
    "    # extract predicted classes\n",
    "    predicted_classes = np.zeros_like(batch_y)\n",
    "    for j in range(batch_size):\n",
    "        predicted_classes[j] = np.argmax(prediction_masks[j], axis=-1)\n",
    "\n",
    "    accuracies = np.zeros((batch_size, n_classes), np.float32)\n",
    "    for j in range(batch_size):\n",
    "        for c in range(1, n_classes + 1):\n",
    "            accuracies[j, c-1] = get_pixel_accuracy(batch_y[j], predicted_classes[j], c)\n",
    "    \n",
    "    return accuracies\n",
    "\n",
    "def process_batch_fscore(batch_size, batch_idx, n_classes):\n",
    "    batch_x = np.zeros((batch_size, 256, 256, 1), np.uint8)\n",
    "    batch_y = np.zeros((batch_size, 256, 256), np.uint8)\n",
    "    batch_paths_x = test_x[batch_idx * batch_size:(batch_idx + 1) * batch_size]\n",
    "    batch_paths_y = test_y[batch_idx * batch_size:(batch_idx + 1) * batch_size]\n",
    "    for j in range(batch_size):\n",
    "        batch_x[j] = cv2.imread(batch_paths_x[j], cv2.IMREAD_GRAYSCALE)[..., None]\n",
    "        batch_x[j] = np.array((batch_x[j] - np.mean(batch_x[j])) / np.std(batch_x[j])).astype(np.uint8)\n",
    "        batch_y[j] = cv2.imread(batch_paths_y[j], cv2.IMREAD_GRAYSCALE)\n",
    "\n",
    "    # predict\n",
    "    prediction_masks = model.predict(batch_x, verbose=0)\n",
    "\n",
    "    # extract predicted classes\n",
    "    predicted_classes = np.zeros_like(batch_y)\n",
    "    for j in range(batch_size):\n",
    "        predicted_classes[j] = np.argmax(prediction_masks[j], axis=-1)\n",
    "\n",
    "    accuracies = {}\n",
    "    for j in range(batch_size):\n",
    "        for c in range(1, n_classes + 1):\n",
    "            gt = batch_y[j]\n",
    "            if c not in gt:\n",
    "                continue\n",
    "            accuracy = get_pixel_fscore(gt, predicted_classes[j], c)\n",
    "\n",
    "            if c in accuracies:\n",
    "                accuracies[c] += [accuracy]\n",
    "            else:\n",
    "                accuracies[c] = [accuracy]\n",
    "    \n",
    "    return accuracies"
   ]
  },
  {
   "cell_type": "code",
   "execution_count": 9,
   "metadata": {},
   "outputs": [
    {
     "name": "stderr",
     "output_type": "stream",
     "text": [
      "100%|██████████| 50/50 [01:54<00:00,  2.28s/it]\n"
     ]
    },
    {
     "data": {
      "text/plain": [
       "48"
      ]
     },
     "execution_count": 9,
     "metadata": {},
     "output_type": "execute_result"
    }
   ],
   "source": [
    "batch_size = 48\n",
    "n_classes = len(class_mapping)\n",
    "n_test = len(test_x)\n",
    "n_batches = int(n_test / batch_size) \n",
    "\n",
    "accuracies = {}\n",
    "total_n = np.zeros((n_classes), np.uint32)\n",
    "total_lac = []\n",
    "for b_idx in tqdm(range(n_batches)):\n",
    "    # accuracies[b_idx * batch_size: (b_idx + 1) * batch_size] = process_batch_accuracy(batch_size, b_idx, n_classes)\n",
    "    acc = process_batch_fscore(batch_size, b_idx, n_classes)\n",
    "    for c in acc:\n",
    "        if c in accuracies:\n",
    "            accuracies[c] += acc[c]\n",
    "        else:\n",
    "            accuracies[c] = acc[c]\n",
    "\n",
    "len(accuracies)"
   ]
  },
  {
   "attachments": {},
   "cell_type": "markdown",
   "metadata": {},
   "source": [
    "### Plot F-Score per class"
   ]
  },
  {
   "cell_type": "code",
   "execution_count": 10,
   "metadata": {},
   "outputs": [
    {
     "data": {
      "text/plain": [
       "(0.9457801642160394, 0.07637406428119027)"
      ]
     },
     "execution_count": 10,
     "metadata": {},
     "output_type": "execute_result"
    },
    {
     "data": {
      "image/png": "[encoded data removed]",
      "text/plain": [
       "<Figure size 1000x200 with 1 Axes>"
      ]
     },
     "metadata": {},
     "output_type": "display_data"
    },
    {
     "data": {
      "image/png": "[encoded data removed]",
      "text/plain": [
       "<Figure size 1000x200 with 1 Axes>"
      ]
     },
     "metadata": {},
     "output_type": "display_data"
    }
   ],
   "source": [
    "ac_means = []\n",
    "ac_stds = []\n",
    "for c in accuracies:\n",
    "    mean = np.mean(accuracies[c])\n",
    "    std = np.std(accuracies[c])\n",
    "    ac_means.append(mean)\n",
    "    ac_stds.append(std)\n",
    "\n",
    "# Create lists for the plot\n",
    "x_pos = np.arange(24) + 1\n",
    "\n",
    "plt.figure(figsize=(10, 2))\n",
    "plt.bar(x_pos, ac_means[:24], yerr=ac_stds[:24], align='center', capsize=5, color=\"#bbb\", ecolor='black')#, alpha=0.5, ecolor='black', capsize=10\n",
    "plt.xticks(np.arange(1, 24 + 1, 1.0))\n",
    "plt.xlabel(\"Symbolklassen (1-24)\")\n",
    "plt.ylabel(\"F-Score\")\n",
    "\n",
    "x_pos = np.arange(24) + 1 + 24\n",
    "plt.figure(figsize=(10, 2))\n",
    "plt.bar(x_pos, ac_means[24:], yerr=ac_stds[24:], align='center', capsize=5, color=\"#bbb\", ecolor='black')#, alpha=0.5, ecolor='black', capsize=10\n",
    "plt.xticks(np.arange(1 + 24, 24 + 24 + 1, 1.0))\n",
    "plt.xlabel(\"Symbolklassen (25-48)\")\n",
    "plt.ylabel(\"F-Score\")\n",
    "np.mean(ac_means), np.mean(ac_stds)"
   ]
  }
 ],
 "metadata": {
  "kernelspec": {
   "display_name": "Python 3",
   "language": "python",
   "name": "python3"
  },
  "language_info": {
   "codemirror_mode": {
    "name": "ipython",
    "version": 3
   },
   "file_extension": ".py",
   "mimetype": "text/x-python",
   "name": "python",
   "nbconvert_exporter": "python",
   "pygments_lexer": "ipython3",
   "version": "3.10.7"
  },
  "orig_nbformat": 4,
  "vscode": {
   "interpreter": {
    "hash": "43afbf7b8c92a6397086dae0be21e5b6ecbdfbb1f0b6983c22cfbb740a73e7f5"
   }
  }
 },
 "nbformat": 4,
 "nbformat_minor": 2
}
