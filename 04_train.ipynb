{
 "cells": [
  {
   "cell_type": "code",
   "execution_count": 73,
   "metadata": {},
   "outputs": [],
   "source": [
    "import os\n",
    "import json\n",
    "import tensorflow as tf\n",
    "import keras\n",
    "import cv2\n",
    "import numpy as np\n",
    "import pandas as pd\n",
    "import matplotlib.pyplot as plt\n",
    "import random\n",
    "from tqdm import tqdm\n",
    "from keras.utils.np_utils import to_categorical\n",
    "from PIL import ImageColor\n",
    "from Preprocessing.dataset import listSubFiles, groupPaths\n",
    "\n",
    "# metadata\n",
    "NUM_CLASSES = 48\n",
    "X_TARGET_SHAPE = (256, 256, 1)\n",
    "\n",
    "# hyperparams\n",
    "EPOCHS = 100\n",
    "BATCH_SIZE = 8"
   ]
  },
  {
   "attachments": {},
   "cell_type": "markdown",
   "metadata": {},
   "source": [
    "# Model definition"
   ]
  },
  {
   "cell_type": "code",
   "execution_count": 9,
   "metadata": {},
   "outputs": [
    {
     "name": "stdout",
     "output_type": "stream",
     "text": [
      "Model: \"model\"\n",
      "__________________________________________________________________________________________________\n",
      " Layer (type)                   Output Shape         Param #     Connected to                     \n",
      "==================================================================================================\n",
      " input_1 (InputLayer)           [(None, 256, 256, 1  0           []                               \n",
      "                                )]                                                                \n",
      "                                                                                                  \n",
      " batch_normalization (BatchNorm  (None, 256, 256, 1)  4          ['input_1[0][0]']                \n",
      " alization)                                                                                       \n",
      "                                                                                                  \n",
      " conv2d (Conv2D)                (None, 256, 256, 16  160         ['batch_normalization[0][0]']    \n",
      "                                )                                                                 \n",
      "                                                                                                  \n",
      " dropout (Dropout)              (None, 256, 256, 16  0           ['conv2d[0][0]']                 \n",
      "                                )                                                                 \n",
      "                                                                                                  \n",
      " conv2d_1 (Conv2D)              (None, 256, 256, 16  2320        ['dropout[0][0]']                \n",
      "                                )                                                                 \n",
      "                                                                                                  \n",
      " max_pooling2d (MaxPooling2D)   (None, 128, 128, 16  0           ['conv2d_1[0][0]']               \n",
      "                                )                                                                 \n",
      "                                                                                                  \n",
      " conv2d_2 (Conv2D)              (None, 128, 128, 32  4640        ['max_pooling2d[0][0]']          \n",
      "                                )                                                                 \n",
      "                                                                                                  \n",
      " dropout_1 (Dropout)            (None, 128, 128, 32  0           ['conv2d_2[0][0]']               \n",
      "                                )                                                                 \n",
      "                                                                                                  \n",
      " conv2d_3 (Conv2D)              (None, 128, 128, 32  9248        ['dropout_1[0][0]']              \n",
      "                                )                                                                 \n",
      "                                                                                                  \n",
      " max_pooling2d_1 (MaxPooling2D)  (None, 64, 64, 32)  0           ['conv2d_3[0][0]']               \n",
      "                                                                                                  \n",
      " conv2d_4 (Conv2D)              (None, 64, 64, 64)   18496       ['max_pooling2d_1[0][0]']        \n",
      "                                                                                                  \n",
      " dropout_2 (Dropout)            (None, 64, 64, 64)   0           ['conv2d_4[0][0]']               \n",
      "                                                                                                  \n",
      " conv2d_5 (Conv2D)              (None, 64, 64, 64)   36928       ['dropout_2[0][0]']              \n",
      "                                                                                                  \n",
      " conv2d_transpose (Conv2DTransp  (None, 128, 128, 32  8224       ['conv2d_5[0][0]']               \n",
      " ose)                           )                                                                 \n",
      "                                                                                                  \n",
      " concatenate (Concatenate)      (None, 128, 128, 64  0           ['conv2d_transpose[0][0]',       \n",
      "                                )                                 'conv2d_3[0][0]']               \n",
      "                                                                                                  \n",
      " conv2d_6 (Conv2D)              (None, 128, 128, 32  18464       ['concatenate[0][0]']            \n",
      "                                )                                                                 \n",
      "                                                                                                  \n",
      " dropout_3 (Dropout)            (None, 128, 128, 32  0           ['conv2d_6[0][0]']               \n",
      "                                )                                                                 \n",
      "                                                                                                  \n",
      " conv2d_7 (Conv2D)              (None, 128, 128, 32  9248        ['dropout_3[0][0]']              \n",
      "                                )                                                                 \n",
      "                                                                                                  \n",
      " conv2d_transpose_1 (Conv2DTran  (None, 256, 256, 16  2064       ['conv2d_7[0][0]']               \n",
      " spose)                         )                                                                 \n",
      "                                                                                                  \n",
      " concatenate_1 (Concatenate)    (None, 256, 256, 32  0           ['conv2d_transpose_1[0][0]',     \n",
      "                                )                                 'conv2d_1[0][0]']               \n",
      "                                                                                                  \n",
      " conv2d_8 (Conv2D)              (None, 256, 256, 16  4624        ['concatenate_1[0][0]']          \n",
      "                                )                                                                 \n",
      "                                                                                                  \n",
      " dropout_4 (Dropout)            (None, 256, 256, 16  0           ['conv2d_8[0][0]']               \n",
      "                                )                                                                 \n",
      "                                                                                                  \n",
      " conv2d_9 (Conv2D)              (None, 256, 256, 16  2320        ['dropout_4[0][0]']              \n",
      "                                )                                                                 \n",
      "                                                                                                  \n",
      " conv2d_10 (Conv2D)             (None, 256, 256, 49  833         ['conv2d_9[0][0]']               \n",
      "                                )                                                                 \n",
      "                                                                                                  \n",
      "==================================================================================================\n",
      "Total params: 117,573\n",
      "Trainable params: 117,571\n",
      "Non-trainable params: 2\n",
      "__________________________________________________________________________________________________\n"
     ]
    }
   ],
   "source": [
    "\n",
    "def ReduceBlock(inputs, features, dropout=0.3):\n",
    "    # fmt: off\n",
    "    conv = tf.keras.layers.Conv2D(features, (3, 3), activation=\"relu\", kernel_initializer=\"he_normal\", padding=\"same\")(inputs)\n",
    "    conv = tf.keras.layers.Dropout(dropout)(conv)\n",
    "    conv = tf.keras.layers.Conv2D(features, (3, 3), activation=\"relu\", kernel_initializer=\"he_normal\", padding=\"same\")(conv)\n",
    "    maxp = tf.keras.layers.MaxPool2D((2, 2), strides=(2, 2))(conv)\n",
    "    # fmt: on\n",
    "    return conv, maxp\n",
    "\n",
    "\n",
    "def ExpandBlock(inputs, features, concatenate_with):\n",
    "    # fmt: off\n",
    "    upsa = tf.keras.layers.Conv2DTranspose(features, (2, 2), strides=(2, 2), padding=\"same\")(inputs)\n",
    "    upsa = tf.keras.layers.concatenate([upsa, concatenate_with])\n",
    "    conv = tf.keras.layers.Conv2D(features, (3, 3), activation=\"relu\", kernel_initializer=\"he_normal\", padding=\"same\")(upsa)\n",
    "    conv = tf.keras.layers.Dropout(0.3)(conv)\n",
    "    conv = tf.keras.layers.Conv2D(features, (3, 3), activation=\"relu\", kernel_initializer=\"he_normal\", padding=\"same\")(conv)\n",
    "    # fmt: on\n",
    "    return upsa, conv\n",
    "\n",
    "\n",
    "def Unet(num_classes, input_shape=(128, 128, 1)):\n",
    "\n",
    "    inputs = tf.keras.layers.Input(input_shape)\n",
    "    bn = tf.keras.layers.BatchNormalization()(inputs)\n",
    "\n",
    "    # Contraction path\n",
    "    c1, p1 = ReduceBlock(bn, 16, dropout=0.3)\n",
    "    c2, p2 = ReduceBlock(p1, 32, dropout=0.3)\n",
    "    c3, _ = ReduceBlock(p2, 64, dropout=0.3)\n",
    "    # c4, _ = ReduceBlock(p3, 128, dropout=0.3)\n",
    "\n",
    "    # Expansion path\n",
    "    # _, c7 = ExpandBlock(c4, 64, concatenate_with=c3)\n",
    "    _, c8 = ExpandBlock(c3, 32, concatenate_with=c2)\n",
    "    _, c9 = ExpandBlock(c8, 16, concatenate_with=c1)\n",
    "\n",
    "    outputs = tf.keras.layers.Conv2D(num_classes + 1, (1, 1), activation=\"softmax\")(c9)\n",
    "    return inputs, outputs\n",
    "\n",
    "\n",
    "tf.keras.backend.clear_session()\n",
    "inputs, outputs = Unet(NUM_CLASSES, X_TARGET_SHAPE)\n",
    "model = tf.keras.Model(inputs=[inputs], outputs=[outputs])\n",
    "model.compile(\n",
    "    optimizer='adam', loss=\"categorical_crossentropy\", metrics=[\"accuracy\"]\n",
    ")\n",
    "model.summary()"
   ]
  },
  {
   "attachments": {},
   "cell_type": "markdown",
   "metadata": {},
   "source": [
    "# Dataset"
   ]
  },
  {
   "cell_type": "code",
   "execution_count": 3,
   "metadata": {},
   "outputs": [
    {
     "data": {
      "text/plain": [
       "('..\\\\..\\\\datasets\\\\generated\\\\unet_aug\\\\train\\\\x\\\\0001.png',\n",
       " '..\\\\..\\\\datasets\\\\generated\\\\unet_aug\\\\train\\\\y\\\\0001.png')"
      ]
     },
     "execution_count": 3,
     "metadata": {},
     "output_type": "execute_result"
    }
   ],
   "source": [
    "# DATASET_PATH = os.path.join(\"..\", \"..\", \"datasets\", \"generated\", \"unet\")\n",
    "DATASET_PATH = os.path.join(\"..\", \"..\", \"datasets\", \"generated\", \"unet_aug\")\n",
    "\n",
    "paths = listSubFiles(DATASET_PATH, depth=3)\n",
    "test, train = groupPaths(paths, 2)\n",
    "train_x, train_y = groupPaths(train, 1)\n",
    "\n",
    "# train_y_onehot = [file for file in train_y if file.endswith(\"_int.png\")]\n",
    "# train_y_multihot = [file for file in train_y if file.endswith(\".npy\")]\n",
    "\n",
    "train_x[0], train_y[0]#train_y_onehot[0]#, train_y_multihot[0]"
   ]
  },
  {
   "cell_type": "code",
   "execution_count": 11,
   "metadata": {},
   "outputs": [],
   "source": [
    "class Samples(keras.utils.Sequence):\n",
    "    def __init__(self, batch_size, img_size, num_classes, x_paths, y_paths):\n",
    "        self.batch_size = batch_size\n",
    "        self.img_size = img_size\n",
    "        self.x_paths = x_paths\n",
    "        self.y_paths = y_paths\n",
    "        self.num_classes = num_classes\n",
    "    \n",
    "    def __len__(self):\n",
    "        return len(self.x_paths)\n",
    "    \n",
    "    def __getitem__(self, idx):\n",
    "        i = idx * self.batch_size\n",
    "        batch_x_paths = self.x_paths[i:i + self.batch_size]\n",
    "        batch_y_paths = self.y_paths[i:i + self.batch_size]\n",
    "        x = np.zeros((self.batch_size,) + self.img_size + (1,), dtype=np.uint8)\n",
    "        for j, x_path in enumerate(batch_x_paths):\n",
    "            x[j] = 255 - cv2.imread(x_path, cv2.IMREAD_GRAYSCALE)[..., None]\n",
    "        y = np.zeros((self.batch_size,) + self.img_size + (self.num_classes + 1,), dtype=np.uint8)\n",
    "        # y = np.zeros((self.batch_size,) + self.img_size + (self.num_classes,), dtype=np.float32)\n",
    "        for j, y_path in enumerate(batch_y_paths):\n",
    "            # y[j] = np.load(y_path)\n",
    "            img = cv2.imread(y_path, cv2.IMREAD_GRAYSCALE)\n",
    "            y[j] = to_categorical(img, self.num_classes + 1)\n",
    "        return x, y\n",
    "        "
   ]
  },
  {
   "cell_type": "code",
   "execution_count": 12,
   "metadata": {},
   "outputs": [],
   "source": [
    "random.Random(1337).shuffle(train_x)\n",
    "random.Random(1337).shuffle(train_y)\n",
    "\n",
    "val_split = 0.1\n",
    "n_valid = int(val_split * len(train_x))\n",
    "n_train = len(train_x) - n_valid\n",
    "\n",
    "train_gen = Samples(1, (256, 256), 48, train_x[:n_train], train_y[:n_train])\n",
    "valid_gen = Samples(1, (256, 256), 48, train_x[n_train:], train_y[n_train:])"
   ]
  },
  {
   "cell_type": "code",
   "execution_count": 13,
   "metadata": {},
   "outputs": [
    {
     "data": {
      "text/plain": [
       "((1, 256, 256, 1),\n",
       " (1, 256, 256, 49),\n",
       " dtype('uint8'),\n",
       " dtype('uint8'),\n",
       " '..\\\\..\\\\datasets\\\\generated\\\\unet_aug\\\\train\\\\x\\\\5370.png')"
      ]
     },
     "execution_count": 13,
     "metadata": {},
     "output_type": "execute_result"
    },
    {
     "data": {
      "image/png": "[encoded data removed]",
      "text/plain": [
       "<Figure size 640x480 with 2 Axes>"
      ]
     },
     "metadata": {},
     "output_type": "display_data"
    }
   ],
   "source": [
    "x, y = train_gen.__getitem__(0)\n",
    "\n",
    "y_vis = np.any(y[0] > 0, axis=2)\n",
    "fig, axs = plt.subplots(1, 2)\n",
    "axs[0].imshow(x[0])\n",
    "axs[1].imshow(np.argmax(y[0], axis=2)==8)\n",
    "# y = cv2.imread('D:/_FH_TRIER/__Master/OMR/datasets/generated/unet_aug/train/y/1581.png', cv2.IMREAD_GRAYSCALE)\n",
    "# axs[1].imshow(y==8)\n",
    "axs[0].set_title(\"x\")\n",
    "axs[1].set_title(\"y\")\n",
    "x.shape, y.shape, y.dtype, x.dtype, train_x[:n_train][0]"
   ]
  },
  {
   "attachments": {},
   "cell_type": "markdown",
   "metadata": {},
   "source": [
    "# Training"
   ]
  },
  {
   "cell_type": "code",
   "execution_count": 14,
   "metadata": {},
   "outputs": [
    {
     "name": "stdout",
     "output_type": "stream",
     "text": [
      "Epoch 1/100\n",
      "8208/8208 [==============================] - ETA: 0s - loss: 0.1048 - accuracy: 0.9714\n",
      "Epoch 1: val_loss improved from inf to 0.02776, saving model to test9.h5\n",
      "8208/8208 [==============================] - 244s 29ms/step - loss: 0.1048 - accuracy: 0.9714 - val_loss: 0.0278 - val_accuracy: 0.9905\n",
      "Epoch 2/100\n",
      "8207/8208 [============================>.] - ETA: 0s - loss: 0.0307 - accuracy: 0.9897\n",
      "Epoch 2: val_loss improved from 0.02776 to 0.01780, saving model to test9.h5\n",
      "8208/8208 [==============================] - 234s 28ms/step - loss: 0.0307 - accuracy: 0.9897 - val_loss: 0.0178 - val_accuracy: 0.9937\n",
      "Epoch 3/100\n",
      "8208/8208 [==============================] - ETA: 0s - loss: 0.0236 - accuracy: 0.9920\n",
      "Epoch 3: val_loss improved from 0.01780 to 0.01601, saving model to test9.h5\n",
      "8208/8208 [==============================] - 240s 29ms/step - loss: 0.0236 - accuracy: 0.9920 - val_loss: 0.0160 - val_accuracy: 0.9944\n",
      "Epoch 4/100\n",
      "8208/8208 [==============================] - ETA: 0s - loss: 0.0207 - accuracy: 0.9929\n",
      "Epoch 4: val_loss improved from 0.01601 to 0.01446, saving model to test9.h5\n",
      "8208/8208 [==============================] - 251s 31ms/step - loss: 0.0207 - accuracy: 0.9929 - val_loss: 0.0145 - val_accuracy: 0.9950\n",
      "Epoch 5/100\n",
      "8207/8208 [============================>.] - ETA: 0s - loss: 0.0190 - accuracy: 0.9936\n",
      "Epoch 5: val_loss improved from 0.01446 to 0.01379, saving model to test9.h5\n",
      "8208/8208 [==============================] - 252s 31ms/step - loss: 0.0190 - accuracy: 0.9936 - val_loss: 0.0138 - val_accuracy: 0.9952\n",
      "Epoch 6/100\n",
      "8207/8208 [============================>.] - ETA: 0s - loss: 0.0178 - accuracy: 0.9940\n",
      "Epoch 6: val_loss improved from 0.01379 to 0.01230, saving model to test9.h5\n",
      "8208/8208 [==============================] - 250s 30ms/step - loss: 0.0177 - accuracy: 0.9940 - val_loss: 0.0123 - val_accuracy: 0.9956\n",
      "Epoch 7/100\n",
      "8208/8208 [==============================] - ETA: 0s - loss: 0.0169 - accuracy: 0.9943\n",
      "Epoch 7: val_loss improved from 0.01230 to 0.01207, saving model to test9.h5\n",
      "8208/8208 [==============================] - 244s 30ms/step - loss: 0.0169 - accuracy: 0.9943 - val_loss: 0.0121 - val_accuracy: 0.9957\n",
      "Epoch 8/100\n",
      "8207/8208 [============================>.] - ETA: 0s - loss: 0.0163 - accuracy: 0.9945\n",
      "Epoch 8: val_loss improved from 0.01207 to 0.01106, saving model to test9.h5\n",
      "8208/8208 [==============================] - 246s 30ms/step - loss: 0.0163 - accuracy: 0.9945 - val_loss: 0.0111 - val_accuracy: 0.9960\n",
      "Epoch 9/100\n",
      "8208/8208 [==============================] - ETA: 0s - loss: 0.0157 - accuracy: 0.9946\n",
      "Epoch 9: val_loss improved from 0.01106 to 0.01057, saving model to test9.h5\n",
      "8208/8208 [==============================] - 245s 30ms/step - loss: 0.0157 - accuracy: 0.9946 - val_loss: 0.0106 - val_accuracy: 0.9962\n",
      "Epoch 10/100\n",
      "8208/8208 [==============================] - ETA: 0s - loss: 0.0154 - accuracy: 0.9947\n",
      "Epoch 10: val_loss improved from 0.01057 to 0.01029, saving model to test9.h5\n",
      "8208/8208 [==============================] - 247s 30ms/step - loss: 0.0154 - accuracy: 0.9947 - val_loss: 0.0103 - val_accuracy: 0.9963\n",
      "Epoch 11/100\n",
      "8207/8208 [============================>.] - ETA: 0s - loss: 0.0152 - accuracy: 0.9948\n",
      "Epoch 11: val_loss did not improve from 0.01029\n",
      "8208/8208 [==============================] - 245s 30ms/step - loss: 0.0152 - accuracy: 0.9948 - val_loss: 0.0111 - val_accuracy: 0.9960\n",
      "Epoch 12/100\n",
      "8208/8208 [==============================] - ETA: 0s - loss: 0.0149 - accuracy: 0.9949\n",
      "Epoch 12: val_loss did not improve from 0.01029\n",
      "8208/8208 [==============================] - 247s 30ms/step - loss: 0.0149 - accuracy: 0.9949 - val_loss: 0.0108 - val_accuracy: 0.9961\n",
      "Epoch 13/100\n",
      "8208/8208 [==============================] - ETA: 0s - loss: 0.0147 - accuracy: 0.9950\n",
      "Epoch 13: val_loss improved from 0.01029 to 0.00973, saving model to test9.h5\n",
      "8208/8208 [==============================] - 248s 30ms/step - loss: 0.0147 - accuracy: 0.9950 - val_loss: 0.0097 - val_accuracy: 0.9965\n",
      "Epoch 14/100\n",
      "8208/8208 [==============================] - ETA: 0s - loss: 0.0145 - accuracy: 0.9950\n",
      "Epoch 14: val_loss did not improve from 0.00973\n",
      "8208/8208 [==============================] - 249s 30ms/step - loss: 0.0145 - accuracy: 0.9950 - val_loss: 0.0103 - val_accuracy: 0.9963\n",
      "Epoch 15/100\n",
      "8207/8208 [============================>.] - ETA: 0s - loss: 0.0144 - accuracy: 0.9951\n",
      "Epoch 15: val_loss did not improve from 0.00973\n",
      "8208/8208 [==============================] - 245s 30ms/step - loss: 0.0144 - accuracy: 0.9951 - val_loss: 0.0103 - val_accuracy: 0.9963\n",
      "Epoch 16/100\n",
      "8207/8208 [============================>.] - ETA: 0s - loss: 0.0141 - accuracy: 0.9952\n",
      "Epoch 16: val_loss did not improve from 0.00973\n",
      "8208/8208 [==============================] - 255s 31ms/step - loss: 0.0141 - accuracy: 0.9952 - val_loss: 0.0107 - val_accuracy: 0.9962\n"
     ]
    }
   ],
   "source": [
    "import json\n",
    "\n",
    "MODEL_FILENAME = \"test9.h5\"\n",
    "# 4 only ideal, many iterations\n",
    "# 5 augmented\n",
    "# 6 augmented but not resized\n",
    "# 7 augmented resized, but with no noise\n",
    "# 8 correct augmented dataset\n",
    "# 9 fixed architecture\n",
    "\n",
    "callbacks = [\n",
    "    tf.keras.callbacks.EarlyStopping(patience=3),\n",
    "    tf.keras.callbacks.ModelCheckpoint(\n",
    "        MODEL_FILENAME,\n",
    "        verbose=1,\n",
    "        mode=\"min\",\n",
    "        save_best_only=True,\n",
    "        monitor=\"val_loss\",\n",
    "    ),\n",
    "    tf.keras.callbacks.TensorBoard(),\n",
    "]\n",
    "\n",
    "history = model.fit(\n",
    "    train_gen,\n",
    "    validation_data=valid_gen,\n",
    "    verbose=1,\n",
    "    epochs=EPOCHS,\n",
    "    callbacks=callbacks,\n",
    ")\n",
    "\n",
    "# save history as json for further evaluation\n",
    "history_filename = '{}_history.json'.format(MODEL_FILENAME)\n",
    "history_filepath = os.path.join(\"histories\", history_filename)\n",
    "with open(history_filepath, 'w') as history_json_file:\n",
    "    json.dump(history.history, history_json_file)\n"
   ]
  },
  {
   "attachments": {},
   "cell_type": "markdown",
   "metadata": {},
   "source": [
    "# Test the model"
   ]
  },
  {
   "cell_type": "code",
   "execution_count": 34,
   "metadata": {},
   "outputs": [
    {
     "name": "stdout",
     "output_type": "stream",
     "text": [
      "1/1 [==============================] - 5s 5s/step\n"
     ]
    },
    {
     "data": {
      "text/plain": [
       "array([ 0,  2,  3,  8, 11, 12, 23, 40, 41, 42, 43, 45, 46, 47],\n",
       "      dtype=int64)"
      ]
     },
     "execution_count": 34,
     "metadata": {},
     "output_type": "execute_result"
    },
    {
     "data": {
      "image/png": "[encoded data removed]",
      "text/plain": [
       "<Figure size 640x480 with 1 Axes>"
      ]
     },
     "metadata": {},
     "output_type": "display_data"
    }
   ],
   "source": [
    "model = tf.keras.models.load_model('test9.h5')\n",
    "\n",
    "img = cv2.imread(\"../../datasets/samples/sample_001.png\", cv2.IMREAD_GRAYSCALE)\n",
    "img = np.array((img - np.mean(img)) / np.std(img)).astype(np.uint8)\n",
    "\n",
    "x, y = 200, 200\n",
    "pred = model.predict(img[None, x:x+256, y:y+256, None])[0]\n",
    "\n",
    "plt.imshow(np.argmax(pred, axis=2),cmap=\"gray\")\n",
    "np.unique(np.argmax(pred, axis=2))\n",
    "# plt.imshow(pred[..., 11])\n",
    "# np.mean(pred[..., 13])"
   ]
  },
  {
   "cell_type": "code",
   "execution_count": 32,
   "metadata": {},
   "outputs": [
    {
     "data": {
      "text/plain": [
       "8.7491134e-07"
      ]
     },
     "execution_count": 32,
     "metadata": {},
     "output_type": "execute_result"
    },
    {
     "data": {
      "image/png": "[encoded data removed]",
      "text/plain": [
       "<Figure size 640x480 with 1 Axes>"
      ]
     },
     "metadata": {},
     "output_type": "display_data"
    }
   ],
   "source": [
    "res = 255 - cv2.cvtColor(img[x:x+256, y:y+256, None], cv2.COLOR_GRAY2RGB)\n",
    "\n",
    "colorings = {\n",
    "    \"#00f000\": [46],\n",
    "    \"#0000ff\": [41, 42, 40, 29, 30],\n",
    "    \"#f00000\": [8],\n",
    "    # \"#f0f000\": [29, 30],\n",
    "    \"#f000f0\": [28, 23],\n",
    "}\n",
    "\n",
    "for color in colorings:\n",
    "    labels = colorings[color]\n",
    "    masks = [np.argmax(pred, axis=2)==l for l in labels]\n",
    "    for mask in masks:\n",
    "        res[mask] = ImageColor.getcolor(color, 'RGB')\n",
    "plt.imshow(res)\n",
    "\n",
    "target_label = 28\n",
    "# plt.imshow(np.argmax(pred, axis=2)==target_label)\n",
    "# plt.imshow(pred[..., target_label], cmap=\"gray\")\n",
    "np.mean(pred[..., target_label])\n"
   ]
  },
  {
   "attachments": {},
   "cell_type": "markdown",
   "metadata": {},
   "source": [
    "# Evaluate Model"
   ]
  },
  {
   "cell_type": "code",
   "execution_count": 74,
   "metadata": {},
   "outputs": [
    {
     "data": {
      "text/plain": [
       "(18240, 5760, 48)"
      ]
     },
     "execution_count": 74,
     "metadata": {},
     "output_type": "execute_result"
    }
   ],
   "source": [
    "DATASET_PATH = os.path.join(\"..\", \"..\", \"datasets\", \"generated\", \"unet_aug\")\n",
    "\n",
    "# get file paths\n",
    "paths = listSubFiles(DATASET_PATH, depth=3)\n",
    "test, train = groupPaths(paths, 2)\n",
    "test_x, test_y = groupPaths(test, 1)\n",
    "\n",
    "# obtain classes\n",
    "df = pd.read_csv('plots/augmented_dataset.csv', sep=\";\", names=[\"x\", \"y\", \"aug\", \"classname\", \"outx\", \"outy\"])\n",
    "\n",
    "with open('../../datasets/generated/classlist.json', 'r') as file:\n",
    "    classlist = json.load(file)\n",
    "    class_mapping = {e[\"class\"]: e[\"id\"] for e in classlist}\n",
    "    class_mapping_inv = {e[\"id\"]: e[\"class\"] for e in classlist}\n",
    "len(train), len(test), len(class_mapping)"
   ]
  },
  {
   "attachments": {},
   "cell_type": "markdown",
   "metadata": {},
   "source": [
    "### Pixel Accuracy"
   ]
  },
  {
   "cell_type": "code",
   "execution_count": 78,
   "metadata": {},
   "outputs": [
    {
     "data": {
      "text/plain": [
       "(0.999786376953125, 'TimeSig4')"
      ]
     },
     "execution_count": 78,
     "metadata": {},
     "output_type": "execute_result"
    }
   ],
   "source": [
    "def get_pixel_accuracy(x_path, y_path, classIdx):\n",
    "    \n",
    "    # load image files\n",
    "    sample_x = cv2.imread(x_path, cv2.IMREAD_GRAYSCALE)\n",
    "    sample_y = cv2.imread(y_path, cv2.IMREAD_GRAYSCALE)\n",
    "\n",
    "    # normalize input\n",
    "    sample_x = np.array((sample_x - np.mean(sample_x)) / np.std(sample_x)).astype(np.uint8)\n",
    "\n",
    "    # predict\n",
    "    pred_masks = model.predict(sample_x[None, ..., None], verbose=0)[0]\n",
    "    predicted_classes = np.argmax(pred_masks, axis=-1)\n",
    "\n",
    "    # Get binary version per class\n",
    "    pred_binary = predicted_classes == classIdx\n",
    "    gt_binary = sample_y == classIdx\n",
    "\n",
    "    # calculate true positive and true negative\n",
    "    tp = np.sum(pred_binary * gt_binary)\n",
    "    tn = np.sum((1 - pred_binary) * (1 - gt_binary))\n",
    "\n",
    "    # calculate false positive and false negative\n",
    "    fp = np.sum(pred_binary * (1 - gt_binary))\n",
    "    fn = np.sum((1 - pred_binary) * gt_binary)\n",
    "\n",
    "    ac = (tp + tn) / (tp + tn + fp + fn)\n",
    "    return ac\n",
    "\n",
    "# get a sample\n",
    "sample = df.loc[7]\n",
    "get_pixel_accuracy(sample.outx, sample.outy, class_mapping[sample.classname]), sample.classname"
   ]
  },
  {
   "cell_type": "code",
   "execution_count": 79,
   "metadata": {},
   "outputs": [
    {
     "name": "stderr",
     "output_type": "stream",
     "text": [
      "37it [03:37,  6.42s/it]"
     ]
    }
   ],
   "source": [
    "n_test = len(test)\n",
    "n_classes = len(class_mapping)\n",
    "accuracies = np.zeros((n_test, n_classes), np.float32)\n",
    "\n",
    "idx = 0\n",
    "for x_path, y_path in tqdm(zip(test_x, test_y)):\n",
    "    for c in range(n_classes):\n",
    "        accuracies[idx, c-1] = get_pixel_accuracy(x_path, y_path, c)\n",
    "    idx += 1\n",
    "np.average(accuracies)"
   ]
  },
  {
   "cell_type": "code",
   "execution_count": 70,
   "metadata": {},
   "outputs": [
    {
     "data": {
      "text/html": [
       "<div>\n",
       "<style scoped>\n",
       "    .dataframe tbody tr th:only-of-type {\n",
       "        vertical-align: middle;\n",
       "    }\n",
       "\n",
       "    .dataframe tbody tr th {\n",
       "        vertical-align: top;\n",
       "    }\n",
       "\n",
       "    .dataframe thead th {\n",
       "        text-align: right;\n",
       "    }\n",
       "</style>\n",
       "<table border=\"1\" class=\"dataframe\">\n",
       "  <thead>\n",
       "    <tr style=\"text-align: right;\">\n",
       "      <th></th>\n",
       "      <th>outx</th>\n",
       "      <th>outy</th>\n",
       "    </tr>\n",
       "  </thead>\n",
       "  <tbody>\n",
       "    <tr>\n",
       "      <th>912</th>\n",
       "      <td>..\\..\\datasets\\generated\\unet_aug\\test\\x\\0001.png</td>\n",
       "      <td>..\\..\\datasets\\generated\\unet_aug\\test\\y\\0001.png</td>\n",
       "    </tr>\n",
       "    <tr>\n",
       "      <th>913</th>\n",
       "      <td>..\\..\\datasets\\generated\\unet_aug\\test\\x\\0002.png</td>\n",
       "      <td>..\\..\\datasets\\generated\\unet_aug\\test\\y\\0002.png</td>\n",
       "    </tr>\n",
       "    <tr>\n",
       "      <th>914</th>\n",
       "      <td>..\\..\\datasets\\generated\\unet_aug\\test\\x\\0003.png</td>\n",
       "      <td>..\\..\\datasets\\generated\\unet_aug\\test\\y\\0003.png</td>\n",
       "    </tr>\n",
       "    <tr>\n",
       "      <th>915</th>\n",
       "      <td>..\\..\\datasets\\generated\\unet_aug\\test\\x\\0004.png</td>\n",
       "      <td>..\\..\\datasets\\generated\\unet_aug\\test\\y\\0004.png</td>\n",
       "    </tr>\n",
       "    <tr>\n",
       "      <th>916</th>\n",
       "      <td>..\\..\\datasets\\generated\\unet_aug\\test\\x\\0005.png</td>\n",
       "      <td>..\\..\\datasets\\generated\\unet_aug\\test\\y\\0005.png</td>\n",
       "    </tr>\n",
       "    <tr>\n",
       "      <th>...</th>\n",
       "      <td>...</td>\n",
       "      <td>...</td>\n",
       "    </tr>\n",
       "    <tr>\n",
       "      <th>11995</th>\n",
       "      <td>..\\..\\datasets\\generated\\unet_aug\\test\\x\\2876.png</td>\n",
       "      <td>..\\..\\datasets\\generated\\unet_aug\\test\\y\\2876.png</td>\n",
       "    </tr>\n",
       "    <tr>\n",
       "      <th>11996</th>\n",
       "      <td>..\\..\\datasets\\generated\\unet_aug\\test\\x\\2877.png</td>\n",
       "      <td>..\\..\\datasets\\generated\\unet_aug\\test\\y\\2877.png</td>\n",
       "    </tr>\n",
       "    <tr>\n",
       "      <th>11997</th>\n",
       "      <td>..\\..\\datasets\\generated\\unet_aug\\test\\x\\2878.png</td>\n",
       "      <td>..\\..\\datasets\\generated\\unet_aug\\test\\y\\2878.png</td>\n",
       "    </tr>\n",
       "    <tr>\n",
       "      <th>11998</th>\n",
       "      <td>..\\..\\datasets\\generated\\unet_aug\\test\\x\\2879.png</td>\n",
       "      <td>..\\..\\datasets\\generated\\unet_aug\\test\\y\\2879.png</td>\n",
       "    </tr>\n",
       "    <tr>\n",
       "      <th>11999</th>\n",
       "      <td>..\\..\\datasets\\generated\\unet_aug\\test\\x\\2880.png</td>\n",
       "      <td>..\\..\\datasets\\generated\\unet_aug\\test\\y\\2880.png</td>\n",
       "    </tr>\n",
       "  </tbody>\n",
       "</table>\n",
       "<p>2880 rows × 2 columns</p>\n",
       "</div>"
      ],
      "text/plain": [
       "                                                    outx  \\\n",
       "912    ..\\..\\datasets\\generated\\unet_aug\\test\\x\\0001.png   \n",
       "913    ..\\..\\datasets\\generated\\unet_aug\\test\\x\\0002.png   \n",
       "914    ..\\..\\datasets\\generated\\unet_aug\\test\\x\\0003.png   \n",
       "915    ..\\..\\datasets\\generated\\unet_aug\\test\\x\\0004.png   \n",
       "916    ..\\..\\datasets\\generated\\unet_aug\\test\\x\\0005.png   \n",
       "...                                                  ...   \n",
       "11995  ..\\..\\datasets\\generated\\unet_aug\\test\\x\\2876.png   \n",
       "11996  ..\\..\\datasets\\generated\\unet_aug\\test\\x\\2877.png   \n",
       "11997  ..\\..\\datasets\\generated\\unet_aug\\test\\x\\2878.png   \n",
       "11998  ..\\..\\datasets\\generated\\unet_aug\\test\\x\\2879.png   \n",
       "11999  ..\\..\\datasets\\generated\\unet_aug\\test\\x\\2880.png   \n",
       "\n",
       "                                                    outy  \n",
       "912    ..\\..\\datasets\\generated\\unet_aug\\test\\y\\0001.png  \n",
       "913    ..\\..\\datasets\\generated\\unet_aug\\test\\y\\0002.png  \n",
       "914    ..\\..\\datasets\\generated\\unet_aug\\test\\y\\0003.png  \n",
       "915    ..\\..\\datasets\\generated\\unet_aug\\test\\y\\0004.png  \n",
       "916    ..\\..\\datasets\\generated\\unet_aug\\test\\y\\0005.png  \n",
       "...                                                  ...  \n",
       "11995  ..\\..\\datasets\\generated\\unet_aug\\test\\y\\2876.png  \n",
       "11996  ..\\..\\datasets\\generated\\unet_aug\\test\\y\\2877.png  \n",
       "11997  ..\\..\\datasets\\generated\\unet_aug\\test\\y\\2878.png  \n",
       "11998  ..\\..\\datasets\\generated\\unet_aug\\test\\y\\2879.png  \n",
       "11999  ..\\..\\datasets\\generated\\unet_aug\\test\\y\\2880.png  \n",
       "\n",
       "[2880 rows x 2 columns]"
      ]
     },
     "execution_count": 70,
     "metadata": {},
     "output_type": "execute_result"
    }
   ],
   "source": [
    "df.loc[df.apply(lambda x: \"test\" in x['outx'], axis=1)][['outx', 'outy']]"
   ]
  }
 ],
 "metadata": {
  "kernelspec": {
   "display_name": "Python 3",
   "language": "python",
   "name": "python3"
  },
  "language_info": {
   "codemirror_mode": {
    "name": "ipython",
    "version": 3
   },
   "file_extension": ".py",
   "mimetype": "text/x-python",
   "name": "python",
   "nbconvert_exporter": "python",
   "pygments_lexer": "ipython3",
   "version": "3.10.7 (tags/v3.10.7:6cc6b13, Sep  5 2022, 14:08:36) [MSC v.1933 64 bit (AMD64)]"
  },
  "orig_nbformat": 4,
  "vscode": {
   "interpreter": {
    "hash": "43afbf7b8c92a6397086dae0be21e5b6ecbdfbb1f0b6983c22cfbb740a73e7f5"
   }
  }
 },
 "nbformat": 4,
 "nbformat_minor": 2
}
