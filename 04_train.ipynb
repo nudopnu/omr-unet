{
 "cells": [
  {
   "cell_type": "code",
   "execution_count": 14,
   "metadata": {},
   "outputs": [],
   "source": [
    "import os\n",
    "import tensorflow as tf\n",
    "import keras\n",
    "import cv2\n",
    "import numpy as np\n",
    "import matplotlib.pyplot as plt\n",
    "import random\n",
    "from keras.utils.np_utils import to_categorical\n",
    "from PIL import ImageColor\n",
    "from Preprocessing.dataset import listSubFiles, groupPaths\n",
    "\n",
    "# metadata\n",
    "NUM_CLASSES = 48\n",
    "X_TARGET_SHAPE = (256, 256, 1)\n",
    "\n",
    "# hyperparams\n",
    "EPOCHS = 100\n",
    "BATCH_SIZE = 8"
   ]
  },
  {
   "attachments": {},
   "cell_type": "markdown",
   "metadata": {},
   "source": [
    "# Model definition"
   ]
  },
  {
   "cell_type": "code",
   "execution_count": 15,
   "metadata": {},
   "outputs": [
    {
     "name": "stdout",
     "output_type": "stream",
     "text": [
      "Model: \"model\"\n",
      "__________________________________________________________________________________________________\n",
      " Layer (type)                   Output Shape         Param #     Connected to                     \n",
      "==================================================================================================\n",
      " input_1 (InputLayer)           [(None, 256, 256, 1  0           []                               \n",
      "                                )]                                                                \n",
      "                                                                                                  \n",
      " batch_normalization (BatchNorm  (None, 256, 256, 1)  4          ['input_1[0][0]']                \n",
      " alization)                                                                                       \n",
      "                                                                                                  \n",
      " conv2d (Conv2D)                (None, 256, 256, 16  160         ['batch_normalization[0][0]']    \n",
      "                                )                                                                 \n",
      "                                                                                                  \n",
      " dropout (Dropout)              (None, 256, 256, 16  0           ['conv2d[0][0]']                 \n",
      "                                )                                                                 \n",
      "                                                                                                  \n",
      " conv2d_1 (Conv2D)              (None, 256, 256, 16  2320        ['dropout[0][0]']                \n",
      "                                )                                                                 \n",
      "                                                                                                  \n",
      " max_pooling2d (MaxPooling2D)   (None, 128, 128, 16  0           ['conv2d_1[0][0]']               \n",
      "                                )                                                                 \n",
      "                                                                                                  \n",
      " conv2d_2 (Conv2D)              (None, 128, 128, 32  4640        ['max_pooling2d[0][0]']          \n",
      "                                )                                                                 \n",
      "                                                                                                  \n",
      " dropout_1 (Dropout)            (None, 128, 128, 32  0           ['conv2d_2[0][0]']               \n",
      "                                )                                                                 \n",
      "                                                                                                  \n",
      " conv2d_3 (Conv2D)              (None, 128, 128, 32  9248        ['dropout_1[0][0]']              \n",
      "                                )                                                                 \n",
      "                                                                                                  \n",
      " max_pooling2d_1 (MaxPooling2D)  (None, 64, 64, 32)  0           ['conv2d_3[0][0]']               \n",
      "                                                                                                  \n",
      " conv2d_4 (Conv2D)              (None, 64, 64, 64)   18496       ['max_pooling2d_1[0][0]']        \n",
      "                                                                                                  \n",
      " dropout_2 (Dropout)            (None, 64, 64, 64)   0           ['conv2d_4[0][0]']               \n",
      "                                                                                                  \n",
      " conv2d_5 (Conv2D)              (None, 64, 64, 64)   36928       ['dropout_2[0][0]']              \n",
      "                                                                                                  \n",
      " conv2d_transpose_1 (Conv2DTran  (None, 128, 128, 32  8224       ['conv2d_5[0][0]']               \n",
      " spose)                         )                                                                 \n",
      "                                                                                                  \n",
      " concatenate_1 (Concatenate)    (None, 128, 128, 64  0           ['conv2d_transpose_1[0][0]',     \n",
      "                                )                                 'conv2d_3[0][0]']               \n",
      "                                                                                                  \n",
      " conv2d_10 (Conv2D)             (None, 128, 128, 32  18464       ['concatenate_1[0][0]']          \n",
      "                                )                                                                 \n",
      "                                                                                                  \n",
      " dropout_5 (Dropout)            (None, 128, 128, 32  0           ['conv2d_10[0][0]']              \n",
      "                                )                                                                 \n",
      "                                                                                                  \n",
      " conv2d_11 (Conv2D)             (None, 128, 128, 32  9248        ['dropout_5[0][0]']              \n",
      "                                )                                                                 \n",
      "                                                                                                  \n",
      " conv2d_transpose_2 (Conv2DTran  (None, 256, 256, 16  2064       ['conv2d_11[0][0]']              \n",
      " spose)                         )                                                                 \n",
      "                                                                                                  \n",
      " concatenate_2 (Concatenate)    (None, 256, 256, 32  0           ['conv2d_transpose_2[0][0]',     \n",
      "                                )                                 'conv2d_1[0][0]']               \n",
      "                                                                                                  \n",
      " conv2d_12 (Conv2D)             (None, 256, 256, 16  4624        ['concatenate_2[0][0]']          \n",
      "                                )                                                                 \n",
      "                                                                                                  \n",
      " dropout_6 (Dropout)            (None, 256, 256, 16  0           ['conv2d_12[0][0]']              \n",
      "                                )                                                                 \n",
      "                                                                                                  \n",
      " conv2d_13 (Conv2D)             (None, 256, 256, 16  2320        ['dropout_6[0][0]']              \n",
      "                                )                                                                 \n",
      "                                                                                                  \n",
      " conv2d_14 (Conv2D)             (None, 256, 256, 49  833         ['conv2d_13[0][0]']              \n",
      "                                )                                                                 \n",
      "                                                                                                  \n",
      "==================================================================================================\n",
      "Total params: 117,573\n",
      "Trainable params: 117,571\n",
      "Non-trainable params: 2\n",
      "__________________________________________________________________________________________________\n"
     ]
    }
   ],
   "source": [
    "\n",
    "def ReduceBlock(inputs, features, dropout=0.3):\n",
    "    # fmt: off\n",
    "    conv = tf.keras.layers.Conv2D(features, (3, 3), activation=\"relu\", kernel_initializer=\"he_normal\", padding=\"same\")(inputs)\n",
    "    conv = tf.keras.layers.Dropout(dropout)(conv)\n",
    "    conv = tf.keras.layers.Conv2D(features, (3, 3), activation=\"relu\", kernel_initializer=\"he_normal\", padding=\"same\")(conv)\n",
    "    maxp = tf.keras.layers.MaxPool2D((2, 2), strides=(2, 2))(conv)\n",
    "    # fmt: on\n",
    "    return conv, maxp\n",
    "\n",
    "\n",
    "def ExpandBlock(inputs, features, concatenate_with):\n",
    "    # fmt: off\n",
    "    upsa = tf.keras.layers.Conv2DTranspose(features, (2, 2), strides=(2, 2), padding=\"same\")(inputs)\n",
    "    upsa = tf.keras.layers.concatenate([upsa, concatenate_with])\n",
    "    conv = tf.keras.layers.Conv2D(features, (3, 3), activation=\"relu\", kernel_initializer=\"he_normal\", padding=\"same\")(upsa)\n",
    "    conv = tf.keras.layers.Dropout(0.3)(conv)\n",
    "    conv = tf.keras.layers.Conv2D(features, (3, 3), activation=\"relu\", kernel_initializer=\"he_normal\", padding=\"same\")(conv)\n",
    "    # fmt: on\n",
    "    return upsa, conv\n",
    "\n",
    "\n",
    "def Unet(num_classes, input_shape=(128, 128, 1)):\n",
    "\n",
    "    inputs = tf.keras.layers.Input(input_shape)\n",
    "    bn = tf.keras.layers.BatchNormalization()(inputs)\n",
    "\n",
    "    # Contraction path\n",
    "    c1, p1 = ReduceBlock(bn, 16, dropout=0.3)\n",
    "    c2, p2 = ReduceBlock(p1, 32, dropout=0.3)\n",
    "    c3, p3 = ReduceBlock(p2, 64, dropout=0.3)\n",
    "    c4, _ = ReduceBlock(p3, 128, dropout=0.3)\n",
    "\n",
    "    # Expansion path\n",
    "    u7, c7 = ExpandBlock(c4, 64, concatenate_with=c3)\n",
    "    u8, c8 = ExpandBlock(c3, 32, concatenate_with=c2)\n",
    "    u9, c9 = ExpandBlock(c8, 16, concatenate_with=c1)\n",
    "\n",
    "    outputs = tf.keras.layers.Conv2D(num_classes + 1, (1, 1), activation=\"softmax\")(c9)\n",
    "    return inputs, outputs\n",
    "\n",
    "\n",
    "tf.keras.backend.clear_session()\n",
    "inputs, outputs = Unet(NUM_CLASSES, X_TARGET_SHAPE)\n",
    "model = tf.keras.Model(inputs=[inputs], outputs=[outputs])\n",
    "model.compile(\n",
    "    optimizer='adam', loss=\"categorical_crossentropy\", metrics=[\"accuracy\"]\n",
    ")\n",
    "model.summary()"
   ]
  },
  {
   "attachments": {},
   "cell_type": "markdown",
   "metadata": {},
   "source": [
    "# Dataset"
   ]
  },
  {
   "cell_type": "code",
   "execution_count": 26,
   "metadata": {},
   "outputs": [
    {
     "data": {
      "text/plain": [
       "('..\\\\..\\\\datasets\\\\generated\\\\unet_aug\\\\train\\\\x\\\\0001.png',\n",
       " '..\\\\..\\\\datasets\\\\generated\\\\unet_aug\\\\train\\\\y\\\\0001.png')"
      ]
     },
     "execution_count": 26,
     "metadata": {},
     "output_type": "execute_result"
    }
   ],
   "source": [
    "# DATASET_PATH = os.path.join(\"..\", \"..\", \"datasets\", \"generated\", \"unet\")\n",
    "DATASET_PATH = os.path.join(\"..\", \"..\", \"datasets\", \"generated\", \"unet_aug\")\n",
    "\n",
    "paths = listSubFiles(DATASET_PATH, depth=3)\n",
    "test, train = groupPaths(paths, 2)\n",
    "train_x, train_y = groupPaths(train, 1)\n",
    "\n",
    "# train_y_onehot = [file for file in train_y if file.endswith(\"_int.png\")]\n",
    "# train_y_multihot = [file for file in train_y if file.endswith(\".npy\")]\n",
    "\n",
    "train_x[0], train_y[0]#train_y_onehot[0]#, train_y_multihot[0]"
   ]
  },
  {
   "cell_type": "code",
   "execution_count": 27,
   "metadata": {},
   "outputs": [],
   "source": [
    "class Samples(keras.utils.Sequence):\n",
    "    def __init__(self, batch_size, img_size, num_classes, x_paths, y_paths):\n",
    "        self.batch_size = batch_size\n",
    "        self.img_size = img_size\n",
    "        self.x_paths = x_paths\n",
    "        self.y_paths = y_paths\n",
    "        self.num_classes = num_classes\n",
    "    \n",
    "    def __len__(self):\n",
    "        return len(self.x_paths)\n",
    "    \n",
    "    def __getitem__(self, idx):\n",
    "        i = idx * self.batch_size\n",
    "        batch_x_paths = self.x_paths[i:i + self.batch_size]\n",
    "        batch_y_paths = self.y_paths[i:i + self.batch_size]\n",
    "        x = np.zeros((self.batch_size,) + self.img_size + (1,), dtype=np.uint8)\n",
    "        for j, x_path in enumerate(batch_x_paths):\n",
    "            x[j] = 255 - cv2.imread(x_path, cv2.IMREAD_GRAYSCALE)[..., None]\n",
    "        y = np.zeros((self.batch_size,) + self.img_size + (self.num_classes + 1,), dtype=np.uint8)\n",
    "        # y = np.zeros((self.batch_size,) + self.img_size + (self.num_classes,), dtype=np.float32)\n",
    "        for j, y_path in enumerate(batch_y_paths):\n",
    "            # y[j] = np.load(y_path)\n",
    "            img = cv2.imread(y_path, cv2.IMREAD_GRAYSCALE)\n",
    "            y[j] = to_categorical(img, self.num_classes + 1)\n",
    "        return x, y\n",
    "        "
   ]
  },
  {
   "cell_type": "code",
   "execution_count": 28,
   "metadata": {},
   "outputs": [],
   "source": [
    "random.Random(1337).shuffle(train_x)\n",
    "random.Random(1337).shuffle(train_y)\n",
    "\n",
    "val_split = 0.1\n",
    "n_valid = int(val_split * len(train_x))\n",
    "n_train = len(train_x) - n_valid\n",
    "\n",
    "train_gen = Samples(1, (256, 256), 48, train_x[:n_train], train_y[:n_train])\n",
    "valid_gen = Samples(1, (256, 256), 48, train_x[n_train:], train_y[n_train:])"
   ]
  },
  {
   "cell_type": "code",
   "execution_count": 29,
   "metadata": {},
   "outputs": [
    {
     "data": {
      "text/plain": [
       "((1, 256, 256, 1),\n",
       " (1, 256, 256, 49),\n",
       " dtype('uint8'),\n",
       " dtype('uint8'),\n",
       " '..\\\\..\\\\datasets\\\\generated\\\\unet_aug\\\\train\\\\x\\\\1581.png')"
      ]
     },
     "execution_count": 29,
     "metadata": {},
     "output_type": "execute_result"
    },
    {
     "data": {
      "image/png": "[encoded data removed]",
      "text/plain": [
       "<Figure size 640x480 with 2 Axes>"
      ]
     },
     "metadata": {},
     "output_type": "display_data"
    }
   ],
   "source": [
    "x, y = train_gen.__getitem__(0)\n",
    "\n",
    "y_vis = np.any(y[0] > 0, axis=2)\n",
    "fig, axs = plt.subplots(1, 2)\n",
    "axs[0].imshow(x[0])\n",
    "axs[1].imshow(np.argmax(y[0], axis=2)==8)\n",
    "# y = cv2.imread('D:/_FH_TRIER/__Master/OMR/datasets/generated/unet_aug/train/y/1581.png', cv2.IMREAD_GRAYSCALE)\n",
    "# axs[1].imshow(y==8)\n",
    "axs[0].set_title(\"x\")\n",
    "axs[1].set_title(\"y\")\n",
    "x.shape, y.shape, y.dtype, x.dtype, train_x[:n_train][0]"
   ]
  },
  {
   "attachments": {},
   "cell_type": "markdown",
   "metadata": {},
   "source": [
    "# Training"
   ]
  },
  {
   "cell_type": "code",
   "execution_count": 30,
   "metadata": {},
   "outputs": [
    {
     "name": "stdout",
     "output_type": "stream",
     "text": [
      "Epoch 1/100\n",
      "8036/8037 [============================>.] - ETA: 0s - loss: 0.1094 - accuracy: 0.9708\n",
      "Epoch 1: val_loss improved from inf to 0.02829, saving model to test7.h5\n",
      "8037/8037 [==============================] - 233s 29ms/step - loss: 0.1094 - accuracy: 0.9708 - val_loss: 0.0283 - val_accuracy: 0.9903\n",
      "Epoch 2/100\n",
      "8037/8037 [==============================] - ETA: 0s - loss: 0.0314 - accuracy: 0.9895\n",
      "Epoch 2: val_loss improved from 0.02829 to 0.01810, saving model to test7.h5\n",
      "8037/8037 [==============================] - 224s 28ms/step - loss: 0.0314 - accuracy: 0.9895 - val_loss: 0.0181 - val_accuracy: 0.9937\n",
      "Epoch 3/100\n",
      "8037/8037 [==============================] - ETA: 0s - loss: 0.0241 - accuracy: 0.9918\n",
      "Epoch 3: val_loss improved from 0.01810 to 0.01498, saving model to test7.h5\n",
      "8037/8037 [==============================] - 225s 28ms/step - loss: 0.0241 - accuracy: 0.9918 - val_loss: 0.0150 - val_accuracy: 0.9948\n",
      "Epoch 4/100\n",
      "8037/8037 [==============================] - ETA: 0s - loss: 0.0212 - accuracy: 0.9929\n",
      "Epoch 4: val_loss improved from 0.01498 to 0.01427, saving model to test7.h5\n",
      "8037/8037 [==============================] - 232s 29ms/step - loss: 0.0212 - accuracy: 0.9929 - val_loss: 0.0143 - val_accuracy: 0.9952\n",
      "Epoch 5/100\n",
      "8035/8037 [============================>.] - ETA: 0s - loss: 0.0194 - accuracy: 0.9936\n",
      "Epoch 5: val_loss improved from 0.01427 to 0.01229, saving model to test7.h5\n",
      "8037/8037 [==============================] - 221s 27ms/step - loss: 0.0194 - accuracy: 0.9936 - val_loss: 0.0123 - val_accuracy: 0.9958\n",
      "Epoch 6/100\n",
      "8035/8037 [============================>.] - ETA: 0s - loss: 0.0180 - accuracy: 0.9940\n",
      "Epoch 6: val_loss improved from 0.01229 to 0.01177, saving model to test7.h5\n",
      "8037/8037 [==============================] - 226s 28ms/step - loss: 0.0180 - accuracy: 0.9940 - val_loss: 0.0118 - val_accuracy: 0.9959\n",
      "Epoch 7/100\n",
      "8036/8037 [============================>.] - ETA: 0s - loss: 0.0174 - accuracy: 0.9942\n",
      "Epoch 7: val_loss did not improve from 0.01177\n",
      "8037/8037 [==============================] - 223s 28ms/step - loss: 0.0174 - accuracy: 0.9942 - val_loss: 0.0118 - val_accuracy: 0.9960\n",
      "Epoch 8/100\n",
      "8035/8037 [============================>.] - ETA: 0s - loss: 0.0165 - accuracy: 0.9945\n",
      "Epoch 8: val_loss improved from 0.01177 to 0.01122, saving model to test7.h5\n",
      "8037/8037 [==============================] - 223s 28ms/step - loss: 0.0165 - accuracy: 0.9945 - val_loss: 0.0112 - val_accuracy: 0.9961\n",
      "Epoch 9/100\n",
      "8035/8037 [============================>.] - ETA: 0s - loss: 0.0161 - accuracy: 0.9946\n",
      "Epoch 9: val_loss improved from 0.01122 to 0.01004, saving model to test7.h5\n",
      "8037/8037 [==============================] - 225s 28ms/step - loss: 0.0161 - accuracy: 0.9946 - val_loss: 0.0100 - val_accuracy: 0.9965\n",
      "Epoch 10/100\n",
      "8037/8037 [==============================] - ETA: 0s - loss: 0.0157 - accuracy: 0.9947\n",
      "Epoch 10: val_loss did not improve from 0.01004\n",
      "8037/8037 [==============================] - 222s 28ms/step - loss: 0.0157 - accuracy: 0.9947 - val_loss: 0.0114 - val_accuracy: 0.9960\n",
      "Epoch 11/100\n",
      "8036/8037 [============================>.] - ETA: 0s - loss: 0.0153 - accuracy: 0.9948\n",
      "Epoch 11: val_loss did not improve from 0.01004\n",
      "8037/8037 [==============================] - 223s 28ms/step - loss: 0.0153 - accuracy: 0.9948 - val_loss: 0.0105 - val_accuracy: 0.9963\n",
      "Epoch 12/100\n",
      "8037/8037 [==============================] - ETA: 0s - loss: 0.0152 - accuracy: 0.9949\n",
      "Epoch 12: val_loss did not improve from 0.01004\n",
      "8037/8037 [==============================] - 223s 28ms/step - loss: 0.0152 - accuracy: 0.9949 - val_loss: 0.0102 - val_accuracy: 0.9964\n"
     ]
    }
   ],
   "source": [
    "MODEL_FILENAME = \"test7.h5\"\n",
    "# 4 only ideal, many iterations\n",
    "# 5 augmented\n",
    "# 6 augmented but not resized\n",
    "# 7 augmented resized, but with no noise\n",
    "\n",
    "callbacks = [\n",
    "    tf.keras.callbacks.EarlyStopping(patience=3),\n",
    "    tf.keras.callbacks.ModelCheckpoint(\n",
    "        MODEL_FILENAME,\n",
    "        verbose=1,\n",
    "        mode=\"min\",\n",
    "        save_best_only=True,\n",
    "        monitor=\"val_loss\",\n",
    "    ),\n",
    "    tf.keras.callbacks.TensorBoard(),\n",
    "]\n",
    "\n",
    "history = model.fit(\n",
    "    train_gen,\n",
    "    validation_data=valid_gen,\n",
    "    verbose=1,\n",
    "    epochs=EPOCHS,\n",
    "    callbacks=callbacks,\n",
    ")"
   ]
  },
  {
   "attachments": {},
   "cell_type": "markdown",
   "metadata": {},
   "source": [
    "# Test the model"
   ]
  },
  {
   "cell_type": "code",
   "execution_count": 31,
   "metadata": {},
   "outputs": [
    {
     "name": "stdout",
     "output_type": "stream",
     "text": [
      "1/1 [==============================] - 0s 265ms/step\n"
     ]
    },
    {
     "data": {
      "text/plain": [
       "array([ 0,  2,  4,  8, 11, 12, 13, 23, 40, 41, 42, 43, 44, 45, 46, 47],\n",
       "      dtype=int64)"
      ]
     },
     "execution_count": 31,
     "metadata": {},
     "output_type": "execute_result"
    },
    {
     "data": {
      "image/png": "[encoded data removed]",
      "text/plain": [
       "<Figure size 640x480 with 1 Axes>"
      ]
     },
     "metadata": {},
     "output_type": "display_data"
    }
   ],
   "source": [
    "model = tf.keras.models.load_model('test7.h5')\n",
    "\n",
    "img = cv2.imread(\"../../datasets/samples/sample_001.png\", cv2.IMREAD_GRAYSCALE)\n",
    "img = np.array((img - np.mean(img)) / np.std(img)).astype(np.uint8)\n",
    "\n",
    "x, y = 200, 200\n",
    "pred = model.predict(img[None, x:x+256, y:y+256, None])[0]\n",
    "\n",
    "plt.imshow(np.argmax(pred, axis=2),cmap=\"gray\")\n",
    "np.unique(np.argmax(pred, axis=2))\n",
    "# plt.imshow(pred[..., 11])\n",
    "# np.mean(pred[..., 13])"
   ]
  },
  {
   "cell_type": "code",
   "execution_count": 32,
   "metadata": {},
   "outputs": [
    {
     "data": {
      "text/plain": [
       "8.7491134e-07"
      ]
     },
     "execution_count": 32,
     "metadata": {},
     "output_type": "execute_result"
    },
    {
     "data": {
      "image/png": "[encoded data removed]",
      "text/plain": [
       "<Figure size 640x480 with 1 Axes>"
      ]
     },
     "metadata": {},
     "output_type": "display_data"
    }
   ],
   "source": [
    "res = 255 - cv2.cvtColor(img[x:x+256, y:y+256, None], cv2.COLOR_GRAY2RGB)\n",
    "\n",
    "colorings = {\n",
    "    \"#00f000\": [46],\n",
    "    \"#0000ff\": [41, 42, 40, 29, 30],\n",
    "    \"#f00000\": [8],\n",
    "    # \"#f0f000\": [29, 30],\n",
    "    \"#f000f0\": [28, 23],\n",
    "}\n",
    "\n",
    "for color in colorings:\n",
    "    labels = colorings[color]\n",
    "    masks = [np.argmax(pred, axis=2)==l for l in labels]\n",
    "    for mask in masks:\n",
    "        res[mask] = ImageColor.getcolor(color, 'RGB')\n",
    "plt.imshow(res)\n",
    "\n",
    "target_label = 28\n",
    "# plt.imshow(np.argmax(pred, axis=2)==target_label)\n",
    "# plt.imshow(pred[..., target_label], cmap=\"gray\")\n",
    "np.mean(pred[..., target_label])\n"
   ]
  },
  {
   "cell_type": "code",
   "execution_count": null,
   "metadata": {},
   "outputs": [],
   "source": []
  }
 ],
 "metadata": {
  "kernelspec": {
   "display_name": "Python 3",
   "language": "python",
   "name": "python3"
  },
  "language_info": {
   "codemirror_mode": {
    "name": "ipython",
    "version": 3
   },
   "file_extension": ".py",
   "mimetype": "text/x-python",
   "name": "python",
   "nbconvert_exporter": "python",
   "pygments_lexer": "ipython3",
   "version": "3.10.7 (tags/v3.10.7:6cc6b13, Sep  5 2022, 14:08:36) [MSC v.1933 64 bit (AMD64)]"
  },
  "orig_nbformat": 4,
  "vscode": {
   "interpreter": {
    "hash": "43afbf7b8c92a6397086dae0be21e5b6ecbdfbb1f0b6983c22cfbb740a73e7f5"
   }
  }
 },
 "nbformat": 4,
 "nbformat_minor": 2
}
