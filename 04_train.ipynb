{
 "cells": [
  {
   "cell_type": "code",
   "execution_count": 8,
   "metadata": {},
   "outputs": [],
   "source": [
    "import os\n",
    "import tensorflow as tf\n",
    "from Preprocessing.dataset import listSubFiles, groupPaths\n",
    "\n",
    "# metadata\n",
    "NUM_CLASSES = 48\n",
    "X_TARGET_SHAPE = (256, 256, 1)\n",
    "\n",
    "# hyperparams\n",
    "EPOCHS = 50\n",
    "BATCH_SIZE = 1"
   ]
  },
  {
   "attachments": {},
   "cell_type": "markdown",
   "metadata": {},
   "source": [
    "# Model definition"
   ]
  },
  {
   "cell_type": "code",
   "execution_count": 15,
   "metadata": {},
   "outputs": [
    {
     "name": "stdout",
     "output_type": "stream",
     "text": [
      "Model: \"model\"\n",
      "__________________________________________________________________________________________________\n",
      " Layer (type)                   Output Shape         Param #     Connected to                     \n",
      "==================================================================================================\n",
      " input_1 (InputLayer)           [(None, 256, 256, 1  0           []                               \n",
      "                                )]                                                                \n",
      "                                                                                                  \n",
      " batch_normalization (BatchNorm  (None, 256, 256, 1)  4          ['input_1[0][0]']                \n",
      " alization)                                                                                       \n",
      "                                                                                                  \n",
      " conv2d (Conv2D)                (None, 256, 256, 16  160         ['batch_normalization[0][0]']    \n",
      "                                )                                                                 \n",
      "                                                                                                  \n",
      " dropout (Dropout)              (None, 256, 256, 16  0           ['conv2d[0][0]']                 \n",
      "                                )                                                                 \n",
      "                                                                                                  \n",
      " conv2d_1 (Conv2D)              (None, 256, 256, 16  2320        ['dropout[0][0]']                \n",
      "                                )                                                                 \n",
      "                                                                                                  \n",
      " max_pooling2d (MaxPooling2D)   (None, 128, 128, 16  0           ['conv2d_1[0][0]']               \n",
      "                                )                                                                 \n",
      "                                                                                                  \n",
      " conv2d_2 (Conv2D)              (None, 128, 128, 32  4640        ['max_pooling2d[0][0]']          \n",
      "                                )                                                                 \n",
      "                                                                                                  \n",
      " dropout_1 (Dropout)            (None, 128, 128, 32  0           ['conv2d_2[0][0]']               \n",
      "                                )                                                                 \n",
      "                                                                                                  \n",
      " conv2d_3 (Conv2D)              (None, 128, 128, 32  9248        ['dropout_1[0][0]']              \n",
      "                                )                                                                 \n",
      "                                                                                                  \n",
      " max_pooling2d_1 (MaxPooling2D)  (None, 64, 64, 32)  0           ['conv2d_3[0][0]']               \n",
      "                                                                                                  \n",
      " conv2d_4 (Conv2D)              (None, 64, 64, 64)   18496       ['max_pooling2d_1[0][0]']        \n",
      "                                                                                                  \n",
      " dropout_2 (Dropout)            (None, 64, 64, 64)   0           ['conv2d_4[0][0]']               \n",
      "                                                                                                  \n",
      " conv2d_5 (Conv2D)              (None, 64, 64, 64)   36928       ['dropout_2[0][0]']              \n",
      "                                                                                                  \n",
      " conv2d_transpose_1 (Conv2DTran  (None, 128, 128, 32  8224       ['conv2d_5[0][0]']               \n",
      " spose)                         )                                                                 \n",
      "                                                                                                  \n",
      " concatenate_1 (Concatenate)    (None, 128, 128, 64  0           ['conv2d_transpose_1[0][0]',     \n",
      "                                )                                 'conv2d_3[0][0]']               \n",
      "                                                                                                  \n",
      " conv2d_10 (Conv2D)             (None, 128, 128, 32  18464       ['concatenate_1[0][0]']          \n",
      "                                )                                                                 \n",
      "                                                                                                  \n",
      " dropout_5 (Dropout)            (None, 128, 128, 32  0           ['conv2d_10[0][0]']              \n",
      "                                )                                                                 \n",
      "                                                                                                  \n",
      " conv2d_11 (Conv2D)             (None, 128, 128, 32  9248        ['dropout_5[0][0]']              \n",
      "                                )                                                                 \n",
      "                                                                                                  \n",
      " conv2d_transpose_2 (Conv2DTran  (None, 256, 256, 16  2064       ['conv2d_11[0][0]']              \n",
      " spose)                         )                                                                 \n",
      "                                                                                                  \n",
      " concatenate_2 (Concatenate)    (None, 256, 256, 32  0           ['conv2d_transpose_2[0][0]',     \n",
      "                                )                                 'conv2d_1[0][0]']               \n",
      "                                                                                                  \n",
      " conv2d_12 (Conv2D)             (None, 256, 256, 16  4624        ['concatenate_2[0][0]']          \n",
      "                                )                                                                 \n",
      "                                                                                                  \n",
      " dropout_6 (Dropout)            (None, 256, 256, 16  0           ['conv2d_12[0][0]']              \n",
      "                                )                                                                 \n",
      "                                                                                                  \n",
      " conv2d_13 (Conv2D)             (None, 256, 256, 16  2320        ['dropout_6[0][0]']              \n",
      "                                )                                                                 \n",
      "                                                                                                  \n",
      " conv2d_14 (Conv2D)             (None, 256, 256, 48  816         ['conv2d_13[0][0]']              \n",
      "                                )                                                                 \n",
      "                                                                                                  \n",
      "==================================================================================================\n",
      "Total params: 117,556\n",
      "Trainable params: 117,554\n",
      "Non-trainable params: 2\n",
      "__________________________________________________________________________________________________\n"
     ]
    }
   ],
   "source": [
    "\n",
    "def ReduceBlock(inputs, features, dropout=0.3):\n",
    "    # fmt: off\n",
    "    conv = tf.keras.layers.Conv2D(features, (3, 3), activation=\"relu\", kernel_initializer=\"he_normal\", padding=\"same\")(inputs)\n",
    "    conv = tf.keras.layers.Dropout(dropout)(conv)\n",
    "    conv = tf.keras.layers.Conv2D(features, (3, 3), activation=\"relu\", kernel_initializer=\"he_normal\", padding=\"same\")(conv)\n",
    "    maxp = tf.keras.layers.MaxPool2D((2, 2), strides=(2, 2))(conv)\n",
    "    # fmt: on\n",
    "    return conv, maxp\n",
    "\n",
    "\n",
    "def ExpandBlock(inputs, features, concatenate_with):\n",
    "    # fmt: off\n",
    "    upsa = tf.keras.layers.Conv2DTranspose(features, (2, 2), strides=(2, 2), padding=\"same\")(inputs)\n",
    "    upsa = tf.keras.layers.concatenate([upsa, concatenate_with])\n",
    "    conv = tf.keras.layers.Conv2D(features, (3, 3), activation=\"relu\", kernel_initializer=\"he_normal\", padding=\"same\")(upsa)\n",
    "    conv = tf.keras.layers.Dropout(0.3)(conv)\n",
    "    conv = tf.keras.layers.Conv2D(features, (3, 3), activation=\"relu\", kernel_initializer=\"he_normal\", padding=\"same\")(conv)\n",
    "    # fmt: on\n",
    "    return upsa, conv\n",
    "\n",
    "\n",
    "def Unet(num_classes, input_shape=(128, 128, 1)):\n",
    "\n",
    "    inputs = tf.keras.layers.Input(input_shape)\n",
    "    bn = tf.keras.layers.BatchNormalization()(inputs)\n",
    "\n",
    "    # Contraction path\n",
    "    c1, p1 = ReduceBlock(bn, 16, dropout=0.3)\n",
    "    c2, p2 = ReduceBlock(p1, 32, dropout=0.3)\n",
    "    c3, p3 = ReduceBlock(p2, 64, dropout=0.3)\n",
    "    c4, _ = ReduceBlock(p3, 128, dropout=0.1)\n",
    "\n",
    "    # Expansion path\n",
    "    u7, c7 = ExpandBlock(c4, 64, concatenate_with=c3)\n",
    "    u8, c8 = ExpandBlock(c3, 32, concatenate_with=c2)\n",
    "    u9, c9 = ExpandBlock(c8, 16, concatenate_with=c1)\n",
    "\n",
    "    outputs = tf.keras.layers.Conv2D(num_classes, (1, 1), activation=\"softmax\")(c9)\n",
    "    return inputs, outputs\n",
    "\n",
    "\n",
    "tf.keras.backend.clear_session()\n",
    "inputs, outputs = Unet(NUM_CLASSES, X_TARGET_SHAPE)\n",
    "model = tf.keras.Model(inputs=[inputs], outputs=[outputs])\n",
    "model.compile(\n",
    "    optimizer='adam', loss=\"categorical_crossentropy\", metrics=[\"accuracy\"]\n",
    ")\n",
    "model.summary()"
   ]
  },
  {
   "attachments": {},
   "cell_type": "markdown",
   "metadata": {},
   "source": [
    "# Dataset"
   ]
  },
  {
   "cell_type": "code",
   "execution_count": 16,
   "metadata": {},
   "outputs": [
    {
     "data": {
      "text/plain": [
       "('..\\\\..\\\\datasets\\\\generated\\\\unet\\\\train\\\\x\\\\001.png',\n",
       " '..\\\\..\\\\datasets\\\\generated\\\\unet\\\\train\\\\y\\\\001.png',\n",
       " '..\\\\..\\\\datasets\\\\generated\\\\unet\\\\train\\\\y\\\\001.npy')"
      ]
     },
     "execution_count": 16,
     "metadata": {},
     "output_type": "execute_result"
    }
   ],
   "source": [
    "DATASET_PATH = os.path.join(\"..\", \"..\", \"datasets\", \"generated\", \"unet\")\n",
    "\n",
    "paths = listSubFiles(DATASET_PATH, depth=3)\n",
    "test, train = groupPaths(paths, 2)\n",
    "train_x, train_y = groupPaths(train, 1)\n",
    "\n",
    "train_y_onehot = [file for file in train_y if file.endswith(\".png\")]\n",
    "train_y_multihot = [file for file in train_y if file.endswith(\".npy\")]\n",
    "\n",
    "train_x[0], train_y_onehot[0], train_y_multihot[0]"
   ]
  },
  {
   "cell_type": "code",
   "execution_count": 17,
   "metadata": {},
   "outputs": [],
   "source": [
    "import keras\n",
    "import cv2\n",
    "import numpy as np\n",
    "\n",
    "class Samples(keras.utils.Sequence):\n",
    "    def __init__(self, batch_size, img_size, num_classes, x_paths, y_paths):\n",
    "        self.batch_size = batch_size\n",
    "        self.img_size = img_size\n",
    "        self.x_paths = x_paths\n",
    "        self.y_paths = y_paths\n",
    "        self.num_classes = num_classes\n",
    "    \n",
    "    def __len__(self):\n",
    "        return len(self.x_paths)\n",
    "    \n",
    "    def __getitem__(self, idx):\n",
    "        i = idx * self.batch_size\n",
    "        batch_x_paths = self.x_paths[i:i + self.batch_size]\n",
    "        batch_y_paths = self.y_paths[i:i + self.batch_size]\n",
    "        x = np.zeros((self.batch_size,) + self.img_size + (1,), dtype=np.uint8)\n",
    "        for j, x_path in enumerate(batch_x_paths):\n",
    "            x[j] = 255 - cv2.imread(x_path, cv2.IMREAD_GRAYSCALE)[..., None]\n",
    "        y = np.zeros((self.batch_size,) + self.img_size + (self.num_classes,), dtype=np.float32)\n",
    "        for j, y_path in enumerate(batch_y_paths):\n",
    "            y[j] = np.load(y_path)\n",
    "        return x, y\n",
    "        "
   ]
  },
  {
   "cell_type": "code",
   "execution_count": 18,
   "metadata": {},
   "outputs": [],
   "source": [
    "import random\n",
    "\n",
    "random.Random(1337).shuffle(train_x)\n",
    "random.Random(1337).shuffle(train_y_multihot)\n",
    "\n",
    "val_split = 0.1\n",
    "n_valid = int(val_split * len(train_x))\n",
    "n_train = len(train_x) - n_valid\n",
    "\n",
    "train_gen = Samples(1, (256, 256), 48, train_x[:n_train], train_y_multihot[:n_train])\n",
    "valid_gen = Samples(1, (256, 256), 48, train_x[n_train:], train_y_multihot[n_train:])"
   ]
  },
  {
   "cell_type": "code",
   "execution_count": 19,
   "metadata": {},
   "outputs": [
    {
     "data": {
      "text/plain": [
       "((1, 256, 256, 1), (1, 256, 256, 48), dtype('float32'), dtype('uint8'))"
      ]
     },
     "execution_count": 19,
     "metadata": {},
     "output_type": "execute_result"
    },
    {
     "data": {
      "image/png": "[encoded data removed]",
      "text/plain": [
       "<Figure size 640x480 with 2 Axes>"
      ]
     },
     "metadata": {},
     "output_type": "display_data"
    }
   ],
   "source": [
    "import matplotlib.pyplot as plt\n",
    "\n",
    "x, y = train_gen.__getitem__(0)\n",
    "\n",
    "y_vis = np.any(y[0] > 0, axis=2)\n",
    "\n",
    "fig, axs = plt.subplots(1, 2)\n",
    "axs[0].imshow(x[0])\n",
    "axs[1].imshow(y_vis)\n",
    "axs[0].set_title(\"x\")\n",
    "axs[1].set_title(\"y\")\n",
    "x.shape, y.shape, y.dtype, x.dtype"
   ]
  },
  {
   "attachments": {},
   "cell_type": "markdown",
   "metadata": {},
   "source": [
    "# Training"
   ]
  },
  {
   "cell_type": "code",
   "execution_count": 20,
   "metadata": {},
   "outputs": [
    {
     "name": "stdout",
     "output_type": "stream",
     "text": [
      "Epoch 1/50\n",
      "804/804 [==============================] - ETA: 0s - loss: nan - accuracy: 0.6213\n",
      "Epoch 1: val_loss did not improve from inf\n",
      "804/804 [==============================] - 29s 34ms/step - loss: nan - accuracy: 0.6213 - val_loss: nan - val_accuracy: 0.8522\n",
      "Epoch 2/50\n",
      "804/804 [==============================] - ETA: 0s - loss: nan - accuracy: 0.8529\n",
      "Epoch 2: val_loss did not improve from inf\n",
      "804/804 [==============================] - 28s 35ms/step - loss: nan - accuracy: 0.8529 - val_loss: nan - val_accuracy: 0.8522\n",
      "Epoch 3/50\n",
      "803/804 [============================>.] - ETA: 0s - loss: nan - accuracy: 0.8529\n",
      "Epoch 3: val_loss did not improve from inf\n",
      "804/804 [==============================] - 27s 33ms/step - loss: nan - accuracy: 0.8529 - val_loss: nan - val_accuracy: 0.8522\n",
      "Epoch 4/50\n",
      "804/804 [==============================] - ETA: 0s - loss: nan - accuracy: 0.8529\n",
      "Epoch 4: val_loss did not improve from inf\n",
      "804/804 [==============================] - 27s 33ms/step - loss: nan - accuracy: 0.8529 - val_loss: nan - val_accuracy: 0.8522\n",
      "Epoch 5/50\n",
      "804/804 [==============================] - ETA: 0s - loss: nan - accuracy: 0.8529\n",
      "Epoch 5: val_loss did not improve from inf\n",
      "804/804 [==============================] - 27s 33ms/step - loss: nan - accuracy: 0.8529 - val_loss: nan - val_accuracy: 0.8522\n",
      "Epoch 6/50\n",
      "803/804 [============================>.] - ETA: 0s - loss: nan - accuracy: 0.8529\n",
      "Epoch 6: val_loss did not improve from inf\n",
      "804/804 [==============================] - 28s 34ms/step - loss: nan - accuracy: 0.8529 - val_loss: nan - val_accuracy: 0.8522\n",
      "Epoch 7/50\n",
      "804/804 [==============================] - ETA: 0s - loss: nan - accuracy: 0.8529\n",
      "Epoch 7: val_loss did not improve from inf\n",
      "804/804 [==============================] - 28s 35ms/step - loss: nan - accuracy: 0.8529 - val_loss: nan - val_accuracy: 0.8522\n",
      "Epoch 8/50\n",
      "804/804 [==============================] - ETA: 0s - loss: nan - accuracy: 0.8529\n",
      "Epoch 8: val_loss did not improve from inf\n",
      "804/804 [==============================] - 31s 39ms/step - loss: nan - accuracy: 0.8529 - val_loss: nan - val_accuracy: 0.8522\n",
      "Epoch 9/50\n",
      "804/804 [==============================] - ETA: 0s - loss: nan - accuracy: 0.8529\n",
      "Epoch 9: val_loss did not improve from inf\n",
      "804/804 [==============================] - 26s 33ms/step - loss: nan - accuracy: 0.8529 - val_loss: nan - val_accuracy: 0.8522\n",
      "Epoch 10/50\n",
      "804/804 [==============================] - ETA: 0s - loss: nan - accuracy: 0.8529\n",
      "Epoch 10: val_loss did not improve from inf\n",
      "804/804 [==============================] - 27s 33ms/step - loss: nan - accuracy: 0.8529 - val_loss: nan - val_accuracy: 0.8522\n",
      "Epoch 11/50\n",
      "803/804 [============================>.] - ETA: 0s - loss: nan - accuracy: 0.8529\n",
      "Epoch 11: val_loss did not improve from inf\n",
      "804/804 [==============================] - 28s 35ms/step - loss: nan - accuracy: 0.8529 - val_loss: nan - val_accuracy: 0.8522\n",
      "Epoch 12/50\n",
      "804/804 [==============================] - ETA: 0s - loss: nan - accuracy: 0.8529\n",
      "Epoch 12: val_loss did not improve from inf\n",
      "804/804 [==============================] - 27s 34ms/step - loss: nan - accuracy: 0.8529 - val_loss: nan - val_accuracy: 0.8522\n",
      "Epoch 13/50\n",
      "804/804 [==============================] - ETA: 0s - loss: nan - accuracy: 0.8529\n",
      "Epoch 13: val_loss did not improve from inf\n",
      "804/804 [==============================] - 27s 33ms/step - loss: nan - accuracy: 0.8529 - val_loss: nan - val_accuracy: 0.8522\n"
     ]
    }
   ],
   "source": [
    "MODEL_FILENAME = \"test3.h5\"\n",
    "\n",
    "callbacks = [\n",
    "    tf.keras.callbacks.EarlyStopping(patience=13),\n",
    "    tf.keras.callbacks.ModelCheckpoint(\n",
    "        MODEL_FILENAME,\n",
    "        verbose=1,\n",
    "        mode=\"min\",\n",
    "        save_best_only=True,\n",
    "        monitor=\"val_loss\",\n",
    "    ),\n",
    "    tf.keras.callbacks.TensorBoard(),\n",
    "]\n",
    "\n",
    "history = model.fit(\n",
    "    train_gen,\n",
    "    validation_data=valid_gen,\n",
    "    verbose=1,\n",
    "    epochs=EPOCHS,\n",
    "    callbacks=callbacks,\n",
    ")"
   ]
  },
  {
   "attachments": {},
   "cell_type": "markdown",
   "metadata": {},
   "source": [
    "# Test the model"
   ]
  },
  {
   "cell_type": "code",
   "execution_count": 22,
   "metadata": {},
   "outputs": [
    {
     "name": "stdout",
     "output_type": "stream",
     "text": [
      "1/1 [==============================] - 0s 36ms/step\n"
     ]
    },
    {
     "data": {
      "text/plain": [
       "nan"
      ]
     },
     "execution_count": 22,
     "metadata": {},
     "output_type": "execute_result"
    },
    {
     "data": {
      "image/png": "[encoded data removed]",
      "text/plain": [
       "<Figure size 640x480 with 1 Axes>"
      ]
     },
     "metadata": {},
     "output_type": "display_data"
    }
   ],
   "source": [
    "img = cv2.imread(\"../../datasets/samples/sample_001.png\", cv2.IMREAD_GRAYSCALE)\n",
    "\n",
    "x, y = 200, 200\n",
    "pred = model.predict(img[None, x:x+256, y:y+256, None])[0]\n",
    "\n",
    "plt.imshow(pred[..., 11])\n",
    "np.mean(pred[..., 13])"
   ]
  }
 ],
 "metadata": {
  "kernelspec": {
   "display_name": "Python 3",
   "language": "python",
   "name": "python3"
  },
  "language_info": {
   "codemirror_mode": {
    "name": "ipython",
    "version": 3
   },
   "file_extension": ".py",
   "mimetype": "text/x-python",
   "name": "python",
   "nbconvert_exporter": "python",
   "pygments_lexer": "ipython3",
   "version": "3.10.7"
  },
  "orig_nbformat": 4,
  "vscode": {
   "interpreter": {
    "hash": "43afbf7b8c92a6397086dae0be21e5b6ecbdfbb1f0b6983c22cfbb740a73e7f5"
   }
  }
 },
 "nbformat": 4,
 "nbformat_minor": 2
}
